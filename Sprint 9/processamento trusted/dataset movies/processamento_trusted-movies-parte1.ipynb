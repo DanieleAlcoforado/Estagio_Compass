{
	"cells": [
		{
			"cell_type": "markdown",
			"metadata": {},
			"source": [
				"## Preparo dos dados\n",
				"\n",
				"#### Através deste job, os dados presentes no arquivo csv de filmes se tornam limpos e confiáveis para as etapas posteriores. A limpeza de dados realizada neste job seleciona apenas as colunas e linhas que serão necessárias para responder às perguntas que foram previamente definidas. Ou seja, nem todos todos os dados são mantidos, apenas aqueles que são relevantes para atender aos objetivos analíticos."
			]
		},
		{
			"cell_type": "markdown",
			"metadata": {},
			"source": [
				"#### O arquivo csv já havia sido previamente catalogado previamente no AWS Glue por meio de um crawler."
			]
		},
		{
			"cell_type": "code",
			"execution_count": 1,
			"metadata": {
				"editable": true,
				"trusted": true,
				"vscode": {
					"languageId": "python_glue_session"
				}
			},
			"outputs": [
				{
					"name": "stdout",
					"output_type": "stream",
					"text": [
						"Welcome to the Glue Interactive Sessions Kernel\n",
						"For more information on available magic commands, please type %help in any new cell.\n",
						"\n",
						"Please view our Getting Started page to access the most up-to-date information on the Interactive Sessions kernel: https://docs.aws.amazon.com/glue/latest/dg/interactive-sessions.html\n",
						"Installed kernel version: 0.38.1 \n",
						"Current idle_timeout is 2800 minutes.\n",
						"idle_timeout has been set to 60 minutes.\n",
						"Setting Glue version to: 3.0\n",
						"Previous worker type: G.1X\n",
						"Setting new worker type to: G.1X\n",
						"Previous number of workers: 5\n",
						"Setting new number of workers to: 2\n",
						"Authenticating with environment variables and user-defined glue_role_arn: arn:aws:iam::965478153338:role/service-role/AWSGlueServiceRole\n",
						"Trying to create a Glue session for the kernel.\n",
						"Worker Type: G.1X\n",
						"Number of Workers: 2\n",
						"Session ID: f516d46e-cae5-4776-9610-8230a17a2143\n",
						"Job Type: glueetl\n",
						"Applying the following default arguments:\n",
						"--glue_kernel_version 0.38.1\n",
						"--enable-glue-datacatalog true\n",
						"Waiting for session f516d46e-cae5-4776-9610-8230a17a2143 to get into ready status...\n",
						"Session f516d46e-cae5-4776-9610-8230a17a2143 has been created.\n",
						"\n"
					]
				}
			],
			"source": [
				"%idle_timeout 60\n",
				"%glue_version 3.0 # versão do AWS Glue que o job utilizará\n",
				"%worker_type G.1X #  tipo de worker a ser usado\n",
				"%number_of_workers 2 # número de workers que serão alocados para o job\n",
				"\n",
				"import sys\n",
				"from awsglue.transforms import *\n",
				"from awsglue.utils import getResolvedOptions\n",
				"from pyspark.context import SparkContext\n",
				"from awsglue.context import GlueContext\n",
				"from awsglue.job import Job\n",
				"\n",
				"#  configurando o ambiente do Glue, criando instâncias do SparkContext, GlueContext e um objeto de job\n",
				"sc = SparkContext.getOrCreate()\n",
				"glueContext = GlueContext(sc)\n",
				"spark = glueContext.spark_session\n",
				"job = Job(glueContext)"
			]
		},
		{
			"cell_type": "code",
			"execution_count": 15,
			"metadata": {
				"tags": [],
				"trusted": true,
				"vscode": {
					"languageId": "python_glue_session"
				}
			},
			"outputs": [
				{
					"name": "stdout",
					"output_type": "stream",
					"text": [
						"\n"
					]
				}
			],
			"source": [
				"from pyspark.sql.functions import col, when, substring, lower, sum, count\n",
				"from awsglue.dynamicframe import DynamicFrame"
			]
		},
		{
			"cell_type": "code",
			"execution_count": 3,
			"metadata": {
				"editable": true,
				"trusted": true,
				"vscode": {
					"languageId": "python_glue_session"
				}
			},
			"outputs": [
				{
					"name": "stdout",
					"output_type": "stream",
					"text": [
						"root\n",
						"|-- id: string\n",
						"|-- titulopincipal: string\n",
						"|-- titulooriginal: string\n",
						"|-- anolancamento: choice\n",
						"|    |-- long\n",
						"|    |-- string\n",
						"|-- tempominutos: string\n",
						"|-- genero: string\n",
						"|-- notamedia: choice\n",
						"|    |-- double\n",
						"|    |-- string\n",
						"|-- numerovotos: choice\n",
						"|    |-- long\n",
						"|    |-- string\n",
						"|-- generoartista: string\n",
						"|-- personagem: string\n",
						"|-- nomeartista: string\n",
						"|-- anonascimento: string\n",
						"|-- anofalecimento: string\n",
						"|-- profissao: string\n",
						"|-- titulosmaisconhecidos: string\n",
						"|-- partition_0: string\n",
						"|-- partition_1: string\n",
						"|-- partition_2: string\n",
						"|-- anotermino: string\n"
					]
				}
			],
			"source": [
				"# criando um DynamicFrame a partir da tabela dos dados no AWS Glue Data Catalog e exibindo seu esquema\n",
				"dyf = glueContext.create_dynamic_frame.from_catalog(database='movies-raw-data', table_name='local', separator=\"|\")\n",
				"dyf.printSchema()"
			]
		},
		{
			"cell_type": "code",
			"execution_count": 4,
			"metadata": {
				"editable": true,
				"trusted": true,
				"vscode": {
					"languageId": "python_glue_session"
				}
			},
			"outputs": [
				{
					"name": "stdout",
					"output_type": "stream",
					"text": [
						"+---------+--------------+--------------+-------------+------------+-------+-----------+-----------+-------------+--------------------+-----------------+-------------+--------------+------------+---------------------+-----------+-----------+-----------+----------+\n",
						"|       id|titulopincipal|titulooriginal|anolancamento|tempominutos| genero|  notamedia|numerovotos|generoartista|          personagem|      nomeartista|anonascimento|anofalecimento|   profissao|titulosmaisconhecidos|partition_0|partition_1|partition_2|anotermino|\n",
						"+---------+--------------+--------------+-------------+------------+-------+-----------+-----------+-------------+--------------------+-----------------+-------------+--------------+------------+---------------------+-----------+-----------+-----------+----------+\n",
						"|tt0000009|    Miss Jerry|    Miss Jerry| {1894, null}|          45|Romance|{5.3, null}|{200, null}|      actress|Miss Geraldine Ho...|  Blanche Bayliss|         1878|          1951|     actress|            tt0000009|        CSV|     Movies| 2023\\09\\04|      null|\n",
						"|tt0000009|    Miss Jerry|    Miss Jerry| {1894, null}|          45|Romance|{5.3, null}|{200, null}|        actor|        Mr. Hamilton|William Courtenay|         1875|          1933|       actor| tt0021535,tt00000...|        CSV|     Movies| 2023\\09\\04|      null|\n",
						"|tt0000009|    Miss Jerry|    Miss Jerry| {1894, null}|          45|Romance|{5.3, null}|{200, null}|        actor|Chauncey Depew - ...|   Chauncey Depew|         1834|          1928|actor,writer| tt1076833,tt04908...|        CSV|     Movies| 2023\\09\\04|      null|\n",
						"|tt0000502|      Bohemios|      Bohemios| {1905, null}|         100|     \\N|{4.2, null}| {14, null}|        actor|                  \\N| Antonio del Pozo|           \\N|            \\N|       actor|            tt0000502|        CSV|     Movies| 2023\\09\\04|      null|\n",
						"|tt0000502|      Bohemios|      Bohemios| {1905, null}|         100|     \\N|{4.2, null}| {14, null}|        actor|                  \\N|      El Mochuelo|           \\N|            \\N|       actor|            tt0000502|        CSV|     Movies| 2023\\09\\04|      null|\n",
						"+---------+--------------+--------------+-------------+------------+-------+-----------+-----------+-------------+--------------------+-----------------+-------------+--------------+------------+---------------------+-----------+-----------+-----------+----------+\n",
						"only showing top 5 rows\n"
					]
				}
			],
			"source": [
				"# convertendo o dynamicframe para um dataframe spark\n",
				"df_movies = dyf.toDF()\n",
				"df_movies.show(5)"
			]
		},
		{
			"cell_type": "markdown",
			"metadata": {},
			"source": [
				"#### As colunas do dataframe que não serão necessárias às análises são excluídas"
			]
		},
		{
			"cell_type": "code",
			"execution_count": 5,
			"metadata": {
				"tags": [],
				"trusted": true,
				"vscode": {
					"languageId": "python_glue_session"
				}
			},
			"outputs": [
				{
					"name": "stdout",
					"output_type": "stream",
					"text": [
						"\n"
					]
				}
			],
			"source": [
				"# lista de nomes das colunas para remover\n",
				"colunas_remover_movies = ['tituloOriginal', 'personagem', 'generoArtista', 'nomeArtista', 'profissao', 'anoNascimento', 'anoFalecimento', 'titulosMaisConhecidos','partition_0','partition_1','partition_2','anotermino']\n",
				"\n",
				"# método drop para remover as colunas\n",
				"df_movies = df_movies.drop(*colunas_remover_movies)"
			]
		},
		{
			"cell_type": "markdown",
			"metadata": {},
			"source": [
				"#### Na coluna contendo os ids dos filmes os dados estão iniciando com \"tt\". No código a seguir esses dois caracteres iniciais são desconsiderados e os campos passam a conter apenas os números."
			]
		},
		{
			"cell_type": "code",
			"execution_count": 6,
			"metadata": {
				"tags": [],
				"trusted": true,
				"vscode": {
					"languageId": "python_glue_session"
				}
			},
			"outputs": [
				{
					"name": "stdout",
					"output_type": "stream",
					"text": [
						"\n"
					]
				}
			],
			"source": [
				"df_movies = df_movies.withColumn('id', substring(col('id'), 3, 100))"
			]
		},
		{
			"cell_type": "code",
			"execution_count": 7,
			"metadata": {
				"tags": [],
				"trusted": true,
				"vscode": {
					"languageId": "python_glue_session"
				}
			},
			"outputs": [
				{
					"name": "stdout",
					"output_type": "stream",
					"text": [
						"+-------+--------------+-------------+------------+-------+-----------+-----------+\n",
						"|     id|titulopincipal|anolancamento|tempominutos| genero|  notamedia|numerovotos|\n",
						"+-------+--------------+-------------+------------+-------+-----------+-----------+\n",
						"|0000009|    Miss Jerry| {1894, null}|          45|Romance|{5.3, null}|{200, null}|\n",
						"|0000009|    Miss Jerry| {1894, null}|          45|Romance|{5.3, null}|{200, null}|\n",
						"|0000009|    Miss Jerry| {1894, null}|          45|Romance|{5.3, null}|{200, null}|\n",
						"|0000502|      Bohemios| {1905, null}|         100|     \\N|{4.2, null}| {14, null}|\n",
						"|0000502|      Bohemios| {1905, null}|         100|     \\N|{4.2, null}| {14, null}|\n",
						"+-------+--------------+-------------+------------+-------+-----------+-----------+\n",
						"only showing top 5 rows\n"
					]
				}
			],
			"source": [
				"df_movies.show(5)"
			]
		},
		{
			"cell_type": "code",
			"execution_count": 8,
			"metadata": {
				"tags": [],
				"trusted": true,
				"vscode": {
					"languageId": "python_glue_session"
				}
			},
			"outputs": [
				{
					"name": "stdout",
					"output_type": "stream",
					"text": [
						"Número de Linhas: 1513944\n",
						"Número de Colunas: 7\n"
					]
				}
			],
			"source": [
				"# Obtendo o número de linhas (registros)\n",
				"num_linhas = df_movies.count()\n",
				"# Obtendo o número de colunas\n",
				"num_colunas = len(df_movies.columns)\n",
				"\n",
				"# Exiba o número de linhas e colunas\n",
				"print(\"Número de Linhas:\", num_linhas)\n",
				"print(\"Número de Colunas:\", num_colunas)"
			]
		},
		{
			"cell_type": "markdown",
			"metadata": {},
			"source": [
				"#### Como as análises serão restritas a filmes do gênero \"crime\", nessa parte do código são selecionados apenas os filmes que contêm este gênero. Para garantir que não haja problemas na filtragem dos dados, todos os caracteres são passados para letras minúsculas."
			]
		},
		{
			"cell_type": "code",
			"execution_count": 9,
			"metadata": {
				"tags": [],
				"trusted": true,
				"vscode": {
					"languageId": "python_glue_session"
				}
			},
			"outputs": [
				{
					"name": "stdout",
					"output_type": "stream",
					"text": [
						"+-------+--------------------+-------------+------------+--------------------+-----------+-----------+\n",
						"|     id|      titulopincipal|anolancamento|tempominutos|              genero|  notamedia|numerovotos|\n",
						"+-------+--------------------+-------------+------------+--------------------+-----------+-----------+\n",
						"|0000009|          Miss Jerry| {1894, null}|          45|             romance|{5.3, null}|{200, null}|\n",
						"|0000009|          Miss Jerry| {1894, null}|          45|             romance|{5.3, null}|{200, null}|\n",
						"|0000009|          Miss Jerry| {1894, null}|          45|             romance|{5.3, null}|{200, null}|\n",
						"|0000502|            Bohemios| {1905, null}|         100|                  \\n|{4.2, null}| {14, null}|\n",
						"|0000502|            Bohemios| {1905, null}|         100|                  \\n|{4.2, null}| {14, null}|\n",
						"|0000574|The Story of the ...| {1906, null}|          70|action,adventure,...|{6.0, null}|{797, null}|\n",
						"|0000574|The Story of the ...| {1906, null}|          70|action,adventure,...|{6.0, null}|{797, null}|\n",
						"|0000574|The Story of the ...| {1906, null}|          70|action,adventure,...|{6.0, null}|{797, null}|\n",
						"|0000574|The Story of the ...| {1906, null}|          70|action,adventure,...|{6.0, null}|{797, null}|\n",
						"|0000591|    The Prodigal Son| {1907, null}|          90|               drama|{5.1, null}| {20, null}|\n",
						"|0000591|    The Prodigal Son| {1907, null}|          90|               drama|{5.1, null}| {20, null}|\n",
						"|0000591|    The Prodigal Son| {1907, null}|          90|               drama|{5.1, null}| {20, null}|\n",
						"|0000591|    The Prodigal Son| {1907, null}|          90|               drama|{5.1, null}| {20, null}|\n",
						"|0000615|  Robbery Under Arms| {1907, null}|          \\N|               drama|{4.3, null}| {23, null}|\n",
						"|0000615|  Robbery Under Arms| {1907, null}|          \\N|               drama|{4.3, null}| {23, null}|\n",
						"|0000615|  Robbery Under Arms| {1907, null}|          \\N|               drama|{4.3, null}| {23, null}|\n",
						"|0000615|  Robbery Under Arms| {1907, null}|          \\N|               drama|{4.3, null}| {23, null}|\n",
						"|0000615|  Robbery Under Arms| {1907, null}|          \\N|               drama|{4.3, null}| {23, null}|\n",
						"|0000615|  Robbery Under Arms| {1907, null}|          \\N|               drama|{4.3, null}| {23, null}|\n",
						"|0000630|              Hamlet| {1908, null}|          \\N|               drama|{2.9, null}| {25, null}|\n",
						"+-------+--------------------+-------------+------------+--------------------+-----------+-----------+\n",
						"only showing top 20 rows\n"
					]
				}
			],
			"source": [
				"# Usando a função lower para colocar todos os caracteres da coluna \"genero\" em letras minúsculas\n",
				"df_movies = df_movies.withColumn('genero', lower(df_movies['genero']))\n",
				"\n",
				"df_movies.show()"
			]
		},
		{
			"cell_type": "code",
			"execution_count": 10,
			"metadata": {
				"tags": [],
				"trusted": true,
				"vscode": {
					"languageId": "python_glue_session"
				}
			},
			"outputs": [
				{
					"name": "stdout",
					"output_type": "stream",
					"text": [
						"+-------+--------------------+-------------+------------+--------------+-----------+------------+\n",
						"|     id|      titulopincipal|anolancamento|tempominutos|        genero|  notamedia| numerovotos|\n",
						"+-------+--------------------+-------------+------------+--------------+-----------+------------+\n",
						"|0001115|       Ansigttyven I| {1910, null}|          \\N|         crime|{4.6, null}|  {19, null}|\n",
						"|0001115|       Ansigttyven I| {1910, null}|          \\N|         crime|{4.6, null}|  {19, null}|\n",
						"|0001115|       Ansigttyven I| {1910, null}|          \\N|         crime|{4.6, null}|  {19, null}|\n",
						"|0001115|       Ansigttyven I| {1910, null}|          \\N|         crime|{4.6, null}|  {19, null}|\n",
						"|0001115|       Ansigttyven I| {1910, null}|          \\N|         crime|{4.6, null}|  {19, null}|\n",
						"|0001115|       Ansigttyven I| {1910, null}|          \\N|         crime|{4.6, null}|  {19, null}|\n",
						"|0001115|       Ansigttyven I| {1910, null}|          \\N|         crime|{4.6, null}|  {19, null}|\n",
						"|0001115|       Ansigttyven I| {1910, null}|          \\N|         crime|{4.6, null}|  {19, null}|\n",
						"|0002588|Zigomar contre Ni...| {1912, null}|          48|crime,thriller|{5.9, null}|  {43, null}|\n",
						"|0002588|Zigomar contre Ni...| {1912, null}|          48|crime,thriller|{5.9, null}|  {43, null}|\n",
						"|0002588|Zigomar contre Ni...| {1912, null}|          48|crime,thriller|{5.9, null}|  {43, null}|\n",
						"|0002588|Zigomar contre Ni...| {1912, null}|          48|crime,thriller|{5.9, null}|  {43, null}|\n",
						"|0002588|Zigomar contre Ni...| {1912, null}|          48|crime,thriller|{5.9, null}|  {43, null}|\n",
						"|0002588|Zigomar contre Ni...| {1912, null}|          48|crime,thriller|{5.9, null}|  {43, null}|\n",
						"|0002844|Fantômas: In the ...| {1913, null}|          54|   crime,drama|{6.9, null}|{2330, null}|\n",
						"|0002844|Fantômas: In the ...| {1913, null}|          54|   crime,drama|{6.9, null}|{2330, null}|\n",
						"|0002844|Fantômas: In the ...| {1913, null}|          54|   crime,drama|{6.9, null}|{2330, null}|\n",
						"|0002844|Fantômas: In the ...| {1913, null}|          54|   crime,drama|{6.9, null}|{2330, null}|\n",
						"|0003006|In the Bishop's C...| {1913, null}|          50|   crime,drama|{5.9, null}|  {23, null}|\n",
						"|0003006|In the Bishop's C...| {1913, null}|          50|   crime,drama|{5.9, null}|  {23, null}|\n",
						"+-------+--------------------+-------------+------------+--------------+-----------+------------+\n",
						"only showing top 20 rows\n"
					]
				}
			],
			"source": [
				"# Filtro para incluir linhas que contenham \"crime\" na coluna \"genero\"\n",
				"filtrado_crime = col('genero').like('%crime%')\n",
				"\n",
				"# Aplicando filtro ao df\n",
				"df_filtrado = df_movies.filter(filtrado_crime)\n",
				"\n",
				"df_filtrado.show()"
			]
		},
		{
			"cell_type": "code",
			"execution_count": 28,
			"metadata": {
				"tags": [],
				"trusted": true,
				"vscode": {
					"languageId": "python_glue_session"
				}
			},
			"outputs": [
				{
					"name": "stdout",
					"output_type": "stream",
					"text": [
						"Número de Linhas: 102132\n",
						"Número de Colunas: 7\n"
					]
				}
			],
			"source": [
				"# Obtendo o número de linhas (registros)\n",
				"num_linhas = df_filtrado.count()\n",
				"# Obtendo o número de colunas\n",
				"num_colunas = len(df_filtrado.columns)\n",
				"\n",
				"# Exiba o número de linhas e colunas\n",
				"print(\"Número de Linhas:\", num_linhas)\n",
				"print(\"Número de Colunas:\", num_colunas)"
			]
		},
		{
			"cell_type": "code",
			"execution_count": 29,
			"metadata": {
				"tags": [],
				"trusted": true,
				"vscode": {
					"languageId": "python_glue_session"
				}
			},
			"outputs": [
				{
					"name": "stdout",
					"output_type": "stream",
					"text": [
						"+---+--------------+-------------+------------+------+---------+-----------+\n",
						"| id|titulopincipal|anolancamento|tempominutos|genero|notamedia|numerovotos|\n",
						"+---+--------------+-------------+------------+------+---------+-----------+\n",
						"|  0|             0|            0|           0|     0|        0|          0|\n",
						"+---+--------------+-------------+------------+------+---------+-----------+\n"
					]
				}
			],
			"source": [
				"# lista com expressão para calcular a contagem de nulos em cada coluna\n",
				"expressao_contagem_nulos = [count(when(col(coluna).isNull(), coluna)).alias(coluna) for coluna in df_filtrado.columns]\n",
				"\n",
				"# função select para calcular a contagem de nulos em cada coluna\n",
				"contagem_nulos = df_filtrado.select(expressao_contagem_nulos)\n",
				"\n",
				"# Exiba a contagem de nulos\n",
				"contagem_nulos.show()"
			]
		},
		{
			"cell_type": "markdown",
			"metadata": {},
			"source": [
				"#### Os campos com valores inconsistentes são transformados em valores nulos no código a seguir"
			]
		},
		{
			"cell_type": "code",
			"execution_count": 12,
			"metadata": {
				"tags": [],
				"trusted": true,
				"vscode": {
					"languageId": "python_glue_session"
				}
			},
			"outputs": [
				{
					"name": "stdout",
					"output_type": "stream",
					"text": [
						"\n"
					]
				}
			],
			"source": [
				"# Lista de todas as colunas do df\n",
				"colunas = df_filtrado.columns\n",
				"\n",
				"# Iterando sobre todas as colunas e aplicando substituição por valor nulo\n",
				"for coluna in colunas:\n",
				"    df_filtrado = df_filtrado.withColumn(\n",
				"        coluna,\n",
				"        when(\n",
				"            (col(coluna).cast('string') == '\\\\N') | (col(coluna).cast('string') == '\\\\n'),\n",
				"            None\n",
				"        ).otherwise(col(coluna))\n",
				"    )"
			]
		},
		{
			"cell_type": "code",
			"execution_count": 13,
			"metadata": {
				"tags": [],
				"trusted": true,
				"vscode": {
					"languageId": "python_glue_session"
				}
			},
			"outputs": [
				{
					"name": "stdout",
					"output_type": "stream",
					"text": [
						"+---+--------------+-------------+------------+------+---------+-----------+\n",
						"| id|titulopincipal|anolancamento|tempominutos|genero|notamedia|numerovotos|\n",
						"+---+--------------+-------------+------------+------+---------+-----------+\n",
						"|  0|             0|            0|        6393|     0|        0|          0|\n",
						"+---+--------------+-------------+------------+------+---------+-----------+\n"
					]
				}
			],
			"source": [
				"# lista com expressão para calcular a contagem de nulos em cada coluna\n",
				"expressao_contagem_nulos_2 = [count(when(col(coluna).isNull(), coluna)).alias(coluna) for coluna in df_filtrado.columns]\n",
				"\n",
				"# função select para calcular a contagem de nulos em cada coluna\n",
				"contagem_nulos = df_filtrado.select(expressao_contagem_nulos_2)\n",
				"\n",
				"# Exiba a contagem de nulos\n",
				"contagem_nulos.show()"
			]
		},
		{
			"cell_type": "markdown",
			"metadata": {
				"editable": true,
				"trusted": true
			},
			"source": [
				"#### Example: Após a limpeza dos dados, eles são salvos no formato parquet na pasta \"Trusted\" no \"S3\" e são criados seu database e table no \"Glue Data Catalog\""
			]
		},
		{
			"cell_type": "code",
			"execution_count": 16,
			"metadata": {
				"editable": true,
				"trusted": true,
				"vscode": {
					"languageId": "python_glue_session"
				}
			},
			"outputs": [
				{
					"name": "stdout",
					"output_type": "stream",
					"text": [
						"<awsglue.dynamicframe.DynamicFrame object at 0x7f36d0eea890>\n"
					]
				}
			],
			"source": [
				"# Criando um DynamicFrame a partir do df\n",
				"dyf_filtrado = DynamicFrame.fromDF(df_filtrado, glueContext, \"dyf_filtrado\")\n",
				"\n",
				"s3output = glueContext.getSink(\n",
				"  path=\"s3://data-lake-daniele/Trusted/dados-do-csv/\",\n",
				"  connection_type=\"s3\",\n",
				"  updateBehavior=\"UPDATE_IN_DATABASE\",\n",
				"  compression=\"snappy\",\n",
				"  enableUpdateCatalog=True,\n",
				"  transformation_ctx=\"s3output\",\n",
				")\n",
				"s3output.setCatalogInfo(\n",
				"  catalogDatabase=\"movies-trusted-data\", catalogTableName=\"dados-do-csv\"\n",
				")\n",
				"s3output.setFormat(\"glueparquet\")\n",
				"s3output.writeFrame(dyf_filtrado)"
			]
		},
		{
			"cell_type": "code",
			"execution_count": null,
			"metadata": {
				"vscode": {
					"languageId": "python_glue_session"
				}
			},
			"outputs": [],
			"source": []
		}
	],
	"metadata": {
		"kernelspec": {
			"display_name": "Glue PySpark",
			"language": "python",
			"name": "glue_pyspark"
		},
		"language_info": {
			"codemirror_mode": {
				"name": "python",
				"version": 3
			},
			"file_extension": ".py",
			"mimetype": "text/x-python",
			"name": "Python_Glue_Session",
			"pygments_lexer": "python3"
		}
	},
	"nbformat": 4,
	"nbformat_minor": 4
}
