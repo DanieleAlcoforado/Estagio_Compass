{
	"metadata": {
		"kernelspec": {
			"name": "glue_pyspark",
			"display_name": "Glue PySpark",
			"language": "python"
		},
		"language_info": {
			"name": "Python_Glue_Session",
			"mimetype": "text/x-python",
			"codemirror_mode": {
				"name": "python",
				"version": 3
			},
			"pygments_lexer": "python3",
			"file_extension": ".py"
		}
	},
	"nbformat_minor": 4,
	"nbformat": 4,
	"cells": [
		{
			"cell_type": "code",
			"source": "%idle_timeout 60\n%glue_version 3.0\n%worker_type G.1X\n%number_of_workers 2\n\nimport sys\nfrom awsglue.transforms import *\nfrom awsglue.utils import getResolvedOptions\nfrom pyspark.context import SparkContext\nfrom awsglue.context import GlueContext\nfrom awsglue.job import Job\n  \nsc = SparkContext.getOrCreate()\nglueContext = GlueContext(sc)\nspark = glueContext.spark_session\njob = Job(glueContext)",
			"metadata": {
				"trusted": true,
				"editable": true
			},
			"execution_count": 5,
			"outputs": [
				{
					"name": "stdout",
					"text": "Welcome to the Glue Interactive Sessions Kernel\nFor more information on available magic commands, please type %help in any new cell.\n\nPlease view our Getting Started page to access the most up-to-date information on the Interactive Sessions kernel: https://docs.aws.amazon.com/glue/latest/dg/interactive-sessions.html\nInstalled kernel version: 0.38.1 \nCurrent idle_timeout is 2800 minutes.\nidle_timeout has been set to 60 minutes.\nSetting Glue version to: 3.0\nPrevious worker type: G.1X\nSetting new worker type to: G.1X\nPrevious number of workers: 5\nSetting new number of workers to: 2\nAuthenticating with environment variables and user-defined glue_role_arn: arn:aws:iam::965478153338:role/service-role/AWSGlueServiceRole\nTrying to create a Glue session for the kernel.\nWorker Type: G.1X\nNumber of Workers: 2\nSession ID: ef86d98e-c77d-4e47-beef-9e9b0b64ced5\nJob Type: glueetl\nApplying the following default arguments:\n--glue_kernel_version 0.38.1\n--enable-glue-datacatalog true\n",
					"output_type": "stream"
				},
				{
					"name": "stderr",
					"text": "Exception encountered while creating session: An error occurred (AlreadyExistsException) when calling the CreateSession operation: Session already created, sessionId=ef86d98e-c77d-4e47-beef-9e9b0b64ced5 \nTraceback (most recent call last):\n  File \"/home/jupyter-user/.local/lib/python3.9/site-packages/aws_glue_interactive_sessions_kernel/glue_pyspark/GlueKernel.py\", line 293, in do_execute\n    self.create_session()\n  File \"/home/jupyter-user/.local/lib/python3.9/site-packages/aws_glue_interactive_sessions_kernel/glue_pyspark/GlueKernel.py\", line 800, in create_session\n    response = self.glue_client.create_session(\n  File \"/home/jupyter-user/.local/lib/python3.9/site-packages/botocore/client.py\", line 534, in _api_call\n    return self._make_api_call(operation_name, kwargs)\n  File \"/home/jupyter-user/.local/lib/python3.9/site-packages/botocore/client.py\", line 976, in _make_api_call\n    raise error_class(parsed_response, operation_name)\nbotocore.errorfactory.AlreadyExistsException: An error occurred (AlreadyExistsException) when calling the CreateSession operation: Session already created, sessionId=ef86d98e-c77d-4e47-beef-9e9b0b64ced5\n",
					"output_type": "stream"
				}
			]
		},
		{
			"cell_type": "code",
			"source": "from pyspark.sql.functions import col, expr\nfrom pyspark.sql.functions import when, substring, lower, sum, count\nfrom awsglue.dynamicframe import DynamicFrame",
			"metadata": {
				"trusted": true,
				"tags": []
			},
			"execution_count": 5,
			"outputs": [
				{
					"name": "stderr",
					"text": "session_id=ef86d98e-c77d-4e47-beef-9e9b0b64ced5 has reached TIMEOUT status. \nPlease re-run the same cell to restart the session. You may also need to re-run previous cells if trying to use pre-defined variables.\n",
					"output_type": "stream"
				}
			]
		},
		{
			"cell_type": "code",
			"source": "from pyspark.sql.functions import udf\nfrom pyspark.sql.types import StringType, IntegerType",
			"metadata": {
				"trusted": true,
				"tags": []
			},
			"execution_count": 3,
			"outputs": [
				{
					"name": "stdout",
					"text": "\n",
					"output_type": "stream"
				}
			]
		},
		{
			"cell_type": "code",
			"source": "# criando um DynamicFrame a partir da tabela dos dados no AWS Glue Data Catalog e exibindo seu esquema\ndyf = glueContext.create_dynamic_frame.from_catalog(database='movies-raw-data', table_name='csv')\ndyf.printSchema()",
			"metadata": {
				"trusted": true,
				"editable": true
			},
			"execution_count": 4,
			"outputs": [
				{
					"name": "stdout",
					"text": "root\n|-- adult: choice\n|    |-- boolean\n|    |-- string\n|-- backdrop_path: string\n|-- genre_ids: string\n|-- id: choice\n|    |-- long\n|    |-- string\n|-- original_language: string\n|-- original_title: string\n|-- overview: string\n|-- popularity: double\n|-- poster_path: string\n|-- release_date: string\n|-- title: string\n|-- video: boolean\n|-- vote_average: double\n|-- vote_count: long\n",
					"output_type": "stream"
				}
			]
		},
		{
			"cell_type": "code",
			"source": "df_tmdb_crime = dyf.toDF()\ndf_tmdb_crime.show()",
			"metadata": {
				"trusted": true,
				"editable": true
			},
			"execution_count": 5,
			"outputs": [
				{
					"name": "stdout",
					"text": "+-------------+--------------------+--------------------+---------------+-----------------+--------------------+--------------------+----------+--------------------+------------+--------------------+-----+------------+----------+\n|        adult|       backdrop_path|           genre_ids|             id|original_language|      original_title|            overview|popularity|         poster_path|release_date|               title|video|vote_average|vote_count|\n+-------------+--------------------+--------------------+---------------+-----------------+--------------------+--------------------+----------+--------------------+------------+--------------------+-----+------------+----------+\n|{false, null}|                    |                [80]|{1170682, null}|               en|Convicts Two and Sex|Skin flick about ...|       0.6|/p8Xy4LgPHPQyE1ZH...|  1970-01-01|Convicts Two and Sex|false|         0.0|         0|\n|{false, null}|                    |        [18, 80, 12]| {967070, null}|               tr|      Kan ve Tabanca|This film is abou...|     0.932|                    |  1970-01-01|       Blood and Gun|false|         0.0|         0|\n|{false, null}|/rnnqeWHDIfZo75hB...|            [18, 80]| {923867, null}|               cs|   Bigbeatová svatba|                    |       0.6|                    |  1970-01-01|   Bigbeatová svatba|false|         0.0|         0|\n|{false, null}|                    |                [80]| {844478, null}|               si|            මොකද උනේ|                    |       0.6|                    |  1970-01-01|            මොකද උනේ|false|         0.0|         0|\n|{false, null}|                    |            [80, 18]| {838628, null}|               ar|              النشال|A Pickpocket disc...|       0.6|/2Lro8bFTKIdY5lWn...|  1970-01-01|      The Pickpocket|false|         0.0|         0|\n|{false, null}|                    |            [80, 18]| {689330, null}|               fa|   رام كردن مرد وحشی|                    |     0.654|/h0UpyMI6jp8uKTWb...|  1970-01-01|Ram Karadane Mard...|false|         0.0|         0|\n|{false, null}|                    |            [37, 80]| {669777, null}|               tr|    Kralların Öfkesi|A gang of thieves...|       0.6|/qDCx50gLuPAyLCAT...|  1970-01-01|    Kralların Öfkesi|false|         0.0|         0|\n|{false, null}|/wqexMfptBicdXakX...|[28, 80, 18, 1075...| {628833, null}|               hi|              Himmat|When a poverty-st...|     0.916|/vLwXduVW3oSonje1...|  1970-01-01|              Himmat|false|         0.0|         0|\n| {true, null}|                    |            [80, 18]| {602766, null}|               en|          The Family|A family of free ...|       0.6|/3Td3fQUHDKFfvqf9...|  1970-01-01|          The Family|false|         0.0|         0|\n|{false, null}|                    |            [35, 80]| {594108, null}|               en|   Caught in the Can|Low budget softco...|       0.9|/3Q58InR0RVLnPt8u...|  1970-01-01|   Caught in the Can|false|         0.0|         0|\n|{false, null}|                    |                [80]| {535177, null}|               en|           The Caper|Sally is a photog...|     1.266|/l0K0nbLqdfOXS3fi...|  1970-01-01|           The Caper|false|         5.0|         1|\n|{false, null}|                    |            [18, 80]| {513240, null}|               en|       Dead Eye Dick|Dead Eye Dick is ...|     0.641|/4Fk5CNA5du8EW1Ds...|  1970-01-01|       Dead Eye Dick|false|         2.0|         1|\n|{false, null}|                    |                [80]| {452349, null}|               en|       Ride, Mister?|Two young hitch-h...|      1.21|/n2ZuIMiymoW8TbxR...|  1970-01-01|       Ride, Mister?|false|         0.0|         0|\n|{false, null}|/mEuTbFvGoyDNAFq2...|                [80]| {435481, null}|               es|Investigación cri...|A young police of...|       0.6|/ojEQNu60XarbIV2R...|  1970-01-01|   White Skin Market|false|         0.0|         0|\n|{false, null}|                    |                [80]| {433226, null}|               fa|        خداحافظ رفیق|Three friends org...|     1.176|/xVzgpSICWVGy6Aud...|  1970-01-01|     Goodbye, Friend|false|         0.0|         0|\n|{false, null}|                    |            [18, 80]| {427217, null}|               pt|República da Traição|European couple a...|     0.623|/yENUEtqlcdIQ3H1w...|  1970-01-01|República da Traição|false|         5.0|         1|\n|{false, null}|                    |                [80]| {416197, null}|               es|El vértigo del cr...|A tale of rival g...|     1.942|/3bzuhm0qqvRIJhoC...|  1970-01-01|    Vertigo of Crime|false|         6.0|         1|\n|{false, null}|                    |            [18, 80]| {410850, null}|               it|Quella chiara not...|A unhappily marri...|       0.6|/xZYdSyuRuHtfF2Qf...|  1970-01-01|Quella chiara not...|false|         0.0|         0|\n|{false, null}|                    |            [18, 80]| {403973, null}|               es|        La Palomilla|Narrates the expl...|      0.84|                    |  1970-01-01|        La Palomilla|false|         0.0|         0|\n|{false, null}|                    |            [35, 80]| {403904, null}|               es|          Fray Dólar|The branch of a b...|     1.544|                    |  1970-01-01|         Fray Dollar|false|         0.0|         0|\n+-------------+--------------------+--------------------+---------------+-----------------+--------------------+--------------------+----------+--------------------+------------+--------------------+-----+------------+----------+\nonly showing top 20 rows\n",
					"output_type": "stream"
				}
			]
		},
		{
			"cell_type": "code",
			"source": "# Lista de nomes das colunas para remover\ncolunas_remover = ['adult','backdrop_path','poster_path','original_title','video']\n\n# método drop para remover as colunas\ndf_tmdb_crime = df_tmdb_crime.drop(*colunas_remover)",
			"metadata": {
				"trusted": true,
				"tags": []
			},
			"execution_count": 6,
			"outputs": [
				{
					"name": "stdout",
					"text": "\n",
					"output_type": "stream"
				}
			]
		},
		{
			"cell_type": "code",
			"source": "df_tmdb_crime.show()",
			"metadata": {
				"trusted": true,
				"tags": []
			},
			"execution_count": 7,
			"outputs": [
				{
					"name": "stdout",
					"text": "+--------------------+---------------+-----------------+--------------------+----------+------------+--------------------+------------+----------+\n|           genre_ids|             id|original_language|            overview|popularity|release_date|               title|vote_average|vote_count|\n+--------------------+---------------+-----------------+--------------------+----------+------------+--------------------+------------+----------+\n|                [80]|{1170682, null}|               en|Skin flick about ...|       0.6|  1970-01-01|Convicts Two and Sex|         0.0|         0|\n|        [18, 80, 12]| {967070, null}|               tr|This film is abou...|     0.932|  1970-01-01|       Blood and Gun|         0.0|         0|\n|            [18, 80]| {923867, null}|               cs|                    |       0.6|  1970-01-01|   Bigbeatová svatba|         0.0|         0|\n|                [80]| {844478, null}|               si|                    |       0.6|  1970-01-01|            මොකද උනේ|         0.0|         0|\n|            [80, 18]| {838628, null}|               ar|A Pickpocket disc...|       0.6|  1970-01-01|      The Pickpocket|         0.0|         0|\n|            [80, 18]| {689330, null}|               fa|                    |     0.654|  1970-01-01|Ram Karadane Mard...|         0.0|         0|\n|            [37, 80]| {669777, null}|               tr|A gang of thieves...|       0.6|  1970-01-01|    Kralların Öfkesi|         0.0|         0|\n|[28, 80, 18, 1075...| {628833, null}|               hi|When a poverty-st...|     0.916|  1970-01-01|              Himmat|         0.0|         0|\n|            [80, 18]| {602766, null}|               en|A family of free ...|       0.6|  1970-01-01|          The Family|         0.0|         0|\n|            [35, 80]| {594108, null}|               en|Low budget softco...|       0.9|  1970-01-01|   Caught in the Can|         0.0|         0|\n|                [80]| {535177, null}|               en|Sally is a photog...|     1.266|  1970-01-01|           The Caper|         5.0|         1|\n|            [18, 80]| {513240, null}|               en|Dead Eye Dick is ...|     0.641|  1970-01-01|       Dead Eye Dick|         2.0|         1|\n|                [80]| {452349, null}|               en|Two young hitch-h...|      1.21|  1970-01-01|       Ride, Mister?|         0.0|         0|\n|                [80]| {435481, null}|               es|A young police of...|       0.6|  1970-01-01|   White Skin Market|         0.0|         0|\n|                [80]| {433226, null}|               fa|Three friends org...|     1.176|  1970-01-01|     Goodbye, Friend|         0.0|         0|\n|            [18, 80]| {427217, null}|               pt|European couple a...|     0.623|  1970-01-01|República da Traição|         5.0|         1|\n|                [80]| {416197, null}|               es|A tale of rival g...|     1.942|  1970-01-01|    Vertigo of Crime|         6.0|         1|\n|            [18, 80]| {410850, null}|               it|A unhappily marri...|       0.6|  1970-01-01|Quella chiara not...|         0.0|         0|\n|            [18, 80]| {403973, null}|               es|Narrates the expl...|      0.84|  1970-01-01|        La Palomilla|         0.0|         0|\n|            [35, 80]| {403904, null}|               es|The branch of a b...|     1.544|  1970-01-01|         Fray Dollar|         0.0|         0|\n+--------------------+---------------+-----------------+--------------------+----------+------------+--------------------+------------+----------+\nonly showing top 20 rows\n",
					"output_type": "stream"
				}
			]
		},
		{
			"cell_type": "code",
			"source": "# lista com expressão para calcular a contagem de nulos em cada coluna\nexpressao_contagem_nulos = [count(when(col(coluna).isNull(), coluna)).alias(coluna) for coluna in df_tmdb_crime.columns]\n\n# função select para calcular a contagem de nulos em cada coluna\ncontagem_nulos = df_tmdb_crime.select(expressao_contagem_nulos)\n\n# Exiba a contagem de nulos\ncontagem_nulos.show()",
			"metadata": {
				"trusted": true,
				"tags": []
			},
			"execution_count": 8,
			"outputs": [
				{
					"name": "stdout",
					"text": "+---------+---+-----------------+--------+----------+------------+-----+------------+----------+\n|genre_ids| id|original_language|overview|popularity|release_date|title|vote_average|vote_count|\n+---------+---+-----------------+--------+----------+------------+-----+------------+----------+\n|       15| 12|               12|      12|        19|          26|   26|          26|        26|\n+---------+---+-----------------+--------+----------+------------+-----+------------+----------+\n",
					"output_type": "stream"
				}
			]
		},
		{
			"cell_type": "code",
			"source": "def convert_genres_id(genres_str):\n    # Remove colchetes e espaços em branco e divide os valores\n    genres_str = genres_str.strip(\"[]\")\n    values = genres_str.split(\",\")\n    \n    # Converte os valores para inteiros e retorna como uma string separada por vírgulas\n    return \",\".join(map(lambda x: x.strip(), values))\n\n# Registre a função UDF\nconvert_genres_id_udf = udf(convert_genres_id, StringType())\n\n# Aplique a função UDF à coluna \"genres_id\" e crie uma nova coluna\ndf_tmdb_crime = df_tmdb_crime.withColumn(\"genres_numeric\", convert_genres_id_udf(df_tmdb_crime[\"genre_ids\"]))",
			"metadata": {
				"trusted": true,
				"tags": []
			},
			"execution_count": 9,
			"outputs": [
				{
					"name": "stdout",
					"text": "\n",
					"output_type": "stream"
				}
			]
		},
		{
			"cell_type": "code",
			"source": "df_tmdb_crime.show(5)",
			"metadata": {
				"trusted": true,
				"tags": []
			},
			"execution_count": 10,
			"outputs": [
				{
					"name": "stdout",
					"text": "+------------+---------------+-----------------+--------------------+----------+------------+--------------------+------------+----------+--------------+\n|   genre_ids|             id|original_language|            overview|popularity|release_date|               title|vote_average|vote_count|genres_numeric|\n+------------+---------------+-----------------+--------------------+----------+------------+--------------------+------------+----------+--------------+\n|        [80]|{1170682, null}|               en|Skin flick about ...|       0.6|  1970-01-01|Convicts Two and Sex|         0.0|         0|            80|\n|[18, 80, 12]| {967070, null}|               tr|This film is abou...|     0.932|  1970-01-01|       Blood and Gun|         0.0|         0|      18,80,12|\n|    [18, 80]| {923867, null}|               cs|                    |       0.6|  1970-01-01|   Bigbeatová svatba|         0.0|         0|         18,80|\n|        [80]| {844478, null}|               si|                    |       0.6|  1970-01-01|            මොකද උනේ|         0.0|         0|            80|\n|    [80, 18]| {838628, null}|               ar|A Pickpocket disc...|       0.6|  1970-01-01|      The Pickpocket|         0.0|         0|         80,18|\n+------------+---------------+-----------------+--------------------+----------+------------+--------------------+------------+----------+--------------+\nonly showing top 5 rows\n",
					"output_type": "stream"
				}
			]
		},
		{
			"cell_type": "code",
			"source": "# Mapeamento entre códigos e nomes dos gêneros\ngenre_mapping = {28: \"Action\",12: \"Adventure\",16: \"Animation\",35: \"Comedy\",80: \"Crime\",99: \"Documentary\",18: \"Drama\",10751: \"Family\",\n                 14: \"Fantasy\",36: \"History\",27: \"Horror\",10402: \"Music\",9648: \"Mystery\",10749: \"Romance\",878: \"Science Fiction\",\n                 10770: \"TV Movie\",53: \"Thriller\",10752: \"War\",37: \"Western\"}",
			"metadata": {
				"trusted": true,
				"tags": []
			},
			"execution_count": 11,
			"outputs": [
				{
					"name": "stdout",
					"text": "\n",
					"output_type": "stream"
				}
			]
		},
		{
			"cell_type": "code",
			"source": "# Defina uma função UDF para mapear os gêneros\ndef map_genres(genre_ids):\n    genre_ids = genre_ids.split(\",\")\n    genres = [genre_mapping.get(int(genre_id), \"Unknown\") for genre_id in genre_ids]\n    return \",\".join(genres)\n\n# Registre a função UDF\n# spark.udf.register(\"map_genres_udf\", map_genres, StringType())\nmap_genres_udf = udf(map_genres, StringType())\n\n# Aplique a função UDF à coluna \"genres_numeric\"\ndf_tmdb_crime = df_tmdb_crime.withColumn(\"genres_mapped\", udf(\"map_genres_udf\")(df_tmdb_crime[\"genres_numeric\"]))",
			"metadata": {
				"trusted": true,
				"tags": []
			},
			"execution_count": 17,
			"outputs": [
				{
					"name": "stdout",
					"text": "TypeError: Invalid function: not a function or callable (__call__ is not defined): <class 'pyspark.sql.column.Column'>\n",
					"output_type": "stream"
				}
			]
		},
		{
			"cell_type": "code",
			"source": "# Aplique a transformação para mapear os gêneros\ndf_tmdb_crime = df_tmdb_crime.withColumn(\"genres_mapped\", expr(\"map_genres_udf(genres_numeric)\"))",
			"metadata": {
				"trusted": true,
				"tags": []
			},
			"execution_count": 15,
			"outputs": [
				{
					"name": "stdout",
					"text": "AnalysisException: Undefined function: 'map_genres_udf'. This function is neither a registered temporary function nor a permanent function registered in the database 'default'.; line 1 pos 0\n",
					"output_type": "stream"
				}
			]
		},
		{
			"cell_type": "code",
			"source": "# Excluindo as colunas \"genre_ids\" e \"genres_numeric\"\ndf_tmdb_crime = df_tmdb_crime.drop(\"genres_numeric\",\"genre_ids\")",
			"metadata": {
				"trusted": true,
				"tags": []
			},
			"execution_count": null,
			"outputs": []
		},
		{
			"cell_type": "code",
			"source": "df_tmdb_crime.show(3)",
			"metadata": {
				"trusted": true,
				"tags": []
			},
			"execution_count": null,
			"outputs": []
		},
		{
			"cell_type": "code",
			"source": "# Defina a função UDF para extrair o valor numérico\ndef extract_numeric_value(value):\n    # Remova colchetes, espaços em branco e vírgula e converta para inteiro\n    value = value.strip(\"[] ,\")\n    return int(value) if value.isdigit() else None\n\n# Registre a função UDF\nspark.udf.register(\"extract_numeric_value_udf\", extract_numeric_value, IntegerType())",
			"metadata": {
				"trusted": true,
				"tags": []
			},
			"execution_count": null,
			"outputs": []
		},
		{
			"cell_type": "code",
			"source": "# Aplique a função UDF à coluna \"id\" para extrair os valores numéricos\ndf_tmdb_crime = df_tmdb_crime.withColumn(\"id_numeric\", udf(\"extract_numeric_value_udf\")(df_tmdb_crime[\"id\"]))",
			"metadata": {
				"trusted": true,
				"tags": []
			},
			"execution_count": null,
			"outputs": []
		},
		{
			"cell_type": "code",
			"source": "s3output = glueContext.getSink(\n  path=\"s3://bucket_name/folder_name\",\n  connection_type=\"s3\",\n  updateBehavior=\"UPDATE_IN_DATABASE\",\n  partitionKeys=[],\n  compression=\"snappy\",\n  enableUpdateCatalog=True,\n  transformation_ctx=\"s3output\",\n)\ns3output.setCatalogInfo(\n  catalogDatabase=\"demo\", catalogTableName=\"populations\"\n)\ns3output.setFormat(\"glueparquet\")\ns3output.writeFrame(DyF)",
			"metadata": {
				"trusted": true,
				"editable": true
			},
			"execution_count": null,
			"outputs": []
		},
		{
			"cell_type": "code",
			"source": "# Criando um DynamicFrame a partir do df\ndyf_tmdb_crime = DynamicFrame.fromDF(df_tmdb_crime, glueContext, \"dyf_tmdb_crime\")\n\ns3output = glueContext.getSink(\n  path=\"s3://data-lake-daniele/Trusted/dados-tmdb/\",\n  connection_type=\"s3\",\n  updateBehavior=\"UPDATE_IN_DATABASE\",\n  compression=\"snappy\",\n  enableUpdateCatalog=True,\n  transformation_ctx=\"s3output\",\n)\ns3output.setCatalogInfo(\n  catalogDatabase=\"movies-trusted-data\", catalogTableName=\"dados-tmdb\"\n)\ns3output.setFormat(\"glueparquet\")\ns3output.writeFrame(dyf_tmdb_crime)",
			"metadata": {
				"trusted": true,
				"tags": []
			},
			"execution_count": null,
			"outputs": []
		},
		{
			"cell_type": "code",
			"source": "",
			"metadata": {},
			"execution_count": null,
			"outputs": []
		}
	]
}