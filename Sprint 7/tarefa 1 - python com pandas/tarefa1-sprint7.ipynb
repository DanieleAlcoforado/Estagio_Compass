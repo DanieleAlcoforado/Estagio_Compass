{
  "nbformat": 4,
  "nbformat_minor": 0,
  "metadata": {
    "colab": {
      "provenance": []
    },
    "kernelspec": {
      "name": "python3",
      "display_name": "Python 3"
    },
    "language_info": {
      "name": "python"
    }
  },
  "cells": [
    {
      "cell_type": "code",
      "execution_count": null,
      "metadata": {
        "id": "nzDb0E9fgESK"
      },
      "outputs": [],
      "source": [
        "import pandas as pd\n",
        "from google.colab import drive\n",
        "drive.mount('/content/drive', force_remount=True)\n",
        "!cp /content/drive/MyDrive/archive_stores/*.* /content\n",
        "\n",
        "actors = pd.read_csv('/content/drive/MyDrive/archive_stores/actors (2).csv')"
      ]
    },
    {
      "cell_type": "markdown",
      "source": [
        "### 1) Identifique o ator/atriz com maior número de filmes e o respectivo número de filmes.\n"
      ],
      "metadata": {
        "id": "fMjN-xLVl3fR"
      }
    },
    {
      "cell_type": "code",
      "source": [
        "actors.columns"
      ],
      "metadata": {
        "colab": {
          "base_uri": "https://localhost:8080/"
        },
        "id": "4d8C_wRlmauo",
        "outputId": "69add870-3a66-433e-d418-470dc9402645"
      },
      "execution_count": 9,
      "outputs": [
        {
          "output_type": "execute_result",
          "data": {
            "text/plain": [
              "Index(['Actor', 'Total Gross', 'Number of Movies', 'Average per Movie',\n",
              "       '#1 Movie', 'Gross'],\n",
              "      dtype='object')"
            ]
          },
          "metadata": {},
          "execution_count": 9
        }
      ]
    },
    {
      "cell_type": "code",
      "source": [
        "maior_n_filmes = actors['Number of Movies'].max()\n",
        "maior_n_filmes"
      ],
      "metadata": {
        "colab": {
          "base_uri": "https://localhost:8080/"
        },
        "id": "WOHtHDuDl-4b",
        "outputId": "76c9a1d5-79da-4c7c-bf10-14335c6d7f32"
      },
      "execution_count": 10,
      "outputs": [
        {
          "output_type": "execute_result",
          "data": {
            "text/plain": [
              "79"
            ]
          },
          "metadata": {},
          "execution_count": 10
        }
      ]
    },
    {
      "cell_type": "code",
      "source": [
        "nome_ator = actors.loc[actors['Number of Movies'] == 79,'Actor']\n",
        "nome_ator = nome_ator.tolist()"
      ],
      "metadata": {
        "id": "SKwlA89jpuiU"
      },
      "execution_count": 11,
      "outputs": []
    },
    {
      "cell_type": "code",
      "source": [
        "print('Ator: ', nome_ator[0])\n",
        "print(f'O ator/atriz com maior número de filmes é {nome_ator} com {maior_n_filmes} filmes.')"
      ],
      "metadata": {
        "colab": {
          "base_uri": "https://localhost:8080/"
        },
        "id": "AtiGprVpsLsU",
        "outputId": "de06d4c2-d7dd-4b18-ca80-8766bbbfdbe5"
      },
      "execution_count": 12,
      "outputs": [
        {
          "output_type": "stream",
          "name": "stdout",
          "text": [
            "Ator:  Robert DeNiro\n",
            "O ator/atriz com maior número de filmes é ['Robert DeNiro'] com 79 filmes.\n"
          ]
        }
      ]
    },
    {
      "cell_type": "markdown",
      "source": [
        "### 2) Apresente a média da coluna contendo o número de filmes."
      ],
      "metadata": {
        "id": "0Z8UyDyAuUqB"
      }
    },
    {
      "cell_type": "code",
      "source": [
        "media_n_filmes = actors['Number of Movies'].mean()\n",
        "media_n_filmes\n",
        "print(f'A média do número de filmes é {media_n_filmes}.')"
      ],
      "metadata": {
        "colab": {
          "base_uri": "https://localhost:8080/"
        },
        "id": "4_8jgWiDuKKP",
        "outputId": "6929057f-abc7-4070-8c9f-e6b9da763147"
      },
      "execution_count": 13,
      "outputs": [
        {
          "output_type": "stream",
          "name": "stdout",
          "text": [
            "A média do número de filmes é 37.88.\n"
          ]
        }
      ]
    },
    {
      "cell_type": "markdown",
      "source": [
        "### 3) Apresente o nome do ator/atriz com a maior média por filme.\n",
        "\n"
      ],
      "metadata": {
        "id": "gvkhCx5tvquI"
      }
    },
    {
      "cell_type": "code",
      "source": [
        "medias_ordenadas = actors.sort_values(by='Average per Movie', ascending=False)\n",
        "\n",
        "ator_maior_media = medias_ordenadas.iloc[0]\n",
        "\n",
        "nome_ator = ator_maior_media['Actor']\n",
        "\n",
        "print(f\"O ator/atriz com a maior média por filme é {nome_ator}\")"
      ],
      "metadata": {
        "colab": {
          "base_uri": "https://localhost:8080/"
        },
        "id": "CFu1UTdHv0Fx",
        "outputId": "318a197c-9019-42fa-d428-0d49747a43af"
      },
      "execution_count": 14,
      "outputs": [
        {
          "output_type": "stream",
          "name": "stdout",
          "text": [
            "O ator/atriz com a maior média por filme é Anthony Daniels\n"
          ]
        }
      ]
    },
    {
      "cell_type": "markdown",
      "source": [
        "### 4) Apresente o nome do(s) filme(s) mais frequente(s) e sua respectiva frequência."
      ],
      "metadata": {
        "id": "ESyuX9Sk0rIo"
      }
    },
    {
      "cell_type": "code",
      "source": [
        "filmes_ordenados = actors['#1 Movie'].value_counts()\n",
        "filme_mais_frequente = filmes_ordenados.index[0]  # acessando o primeiro índice, que é o filme mais frequente\n",
        "maior_frequencia = filmes_ordenados.iloc[0] # # acessando a frequência do primeiro índice\n",
        "print(f'O filme {filme_mais_frequente} aparece {maior_frequencia} vez(es) no dataset.')"
      ],
      "metadata": {
        "colab": {
          "base_uri": "https://localhost:8080/"
        },
        "id": "kmE38N-txKIV",
        "outputId": "b60f0117-f0cd-4693-8e17-0c7eef587c46"
      },
      "execution_count": 15,
      "outputs": [
        {
          "output_type": "stream",
          "name": "stdout",
          "text": [
            "O filme The Avengers aparece 6 vez(es) no dataset.\n"
          ]
        }
      ]
    }
  ]
}