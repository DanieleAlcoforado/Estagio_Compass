{
  "cells": [
    {
      "cell_type": "markdown",
      "metadata": {},
      "source": [
        "### RESOLUÇÃO DE EXERCÍCIOS"
      ]
    },
    {
      "cell_type": "code",
      "execution_count": null,
      "metadata": {
        "id": "nzDb0E9fgESK"
      },
      "outputs": [],
      "source": [
        "import pandas as pd\n",
        "from google.colab import drive\n",
        "drive.mount('/content/drive', force_remount=True)\n",
        "!cp /content/drive/MyDrive/archive_stores/*.* /content\n",
        "\n",
        "actors = pd.read_csv('/content/drive/MyDrive/archive_stores/actors (2).csv')"
      ]
    },
    {
      "cell_type": "markdown",
      "metadata": {
        "id": "fMjN-xLVl3fR"
      },
      "source": [
        "### 1) Identifique o ator/atriz com maior número de filmes e o respectivo número de filmes.\n"
      ]
    },
    {
      "cell_type": "code",
      "execution_count": 9,
      "metadata": {
        "colab": {
          "base_uri": "https://localhost:8080/"
        },
        "id": "4d8C_wRlmauo",
        "outputId": "69add870-3a66-433e-d418-470dc9402645"
      },
      "outputs": [
        {
          "data": {
            "text/plain": [
              "Index(['Actor', 'Total Gross', 'Number of Movies', 'Average per Movie',\n",
              "       '#1 Movie', 'Gross'],\n",
              "      dtype='object')"
            ]
          },
          "execution_count": 9,
          "metadata": {},
          "output_type": "execute_result"
        }
      ],
      "source": [
        "actors.columns"
      ]
    },
    {
      "cell_type": "code",
      "execution_count": 10,
      "metadata": {
        "colab": {
          "base_uri": "https://localhost:8080/"
        },
        "id": "WOHtHDuDl-4b",
        "outputId": "76c9a1d5-79da-4c7c-bf10-14335c6d7f32"
      },
      "outputs": [
        {
          "data": {
            "text/plain": [
              "79"
            ]
          },
          "execution_count": 10,
          "metadata": {},
          "output_type": "execute_result"
        }
      ],
      "source": [
        "maior_n_filmes = actors['Number of Movies'].max()\n",
        "maior_n_filmes"
      ]
    },
    {
      "cell_type": "code",
      "execution_count": 11,
      "metadata": {
        "id": "SKwlA89jpuiU"
      },
      "outputs": [],
      "source": [
        "nome_ator = actors.loc[actors['Number of Movies'] == 79,'Actor']\n",
        "nome_ator = nome_ator.tolist()"
      ]
    },
    {
      "cell_type": "code",
      "execution_count": 12,
      "metadata": {
        "colab": {
          "base_uri": "https://localhost:8080/"
        },
        "id": "AtiGprVpsLsU",
        "outputId": "de06d4c2-d7dd-4b18-ca80-8766bbbfdbe5"
      },
      "outputs": [
        {
          "name": "stdout",
          "output_type": "stream",
          "text": [
            "Ator:  Robert DeNiro\n",
            "O ator/atriz com maior número de filmes é ['Robert DeNiro'] com 79 filmes.\n"
          ]
        }
      ],
      "source": [
        "print('Ator: ', nome_ator[0])\n",
        "print(f'O ator/atriz com maior número de filmes é {nome_ator} com {maior_n_filmes} filmes.')"
      ]
    },
    {
      "cell_type": "markdown",
      "metadata": {
        "id": "0Z8UyDyAuUqB"
      },
      "source": [
        "### 2) Apresente a média da coluna contendo o número de filmes."
      ]
    },
    {
      "cell_type": "code",
      "execution_count": 13,
      "metadata": {
        "colab": {
          "base_uri": "https://localhost:8080/"
        },
        "id": "4_8jgWiDuKKP",
        "outputId": "6929057f-abc7-4070-8c9f-e6b9da763147"
      },
      "outputs": [
        {
          "name": "stdout",
          "output_type": "stream",
          "text": [
            "A média do número de filmes é 37.88.\n"
          ]
        }
      ],
      "source": [
        "media_n_filmes = actors['Number of Movies'].mean()\n",
        "media_n_filmes\n",
        "print(f'A média do número de filmes é {media_n_filmes}.')"
      ]
    },
    {
      "cell_type": "markdown",
      "metadata": {
        "id": "gvkhCx5tvquI"
      },
      "source": [
        "### 3) Apresente o nome do ator/atriz com a maior média por filme.\n",
        "\n"
      ]
    },
    {
      "cell_type": "code",
      "execution_count": 14,
      "metadata": {
        "colab": {
          "base_uri": "https://localhost:8080/"
        },
        "id": "CFu1UTdHv0Fx",
        "outputId": "318a197c-9019-42fa-d428-0d49747a43af"
      },
      "outputs": [
        {
          "name": "stdout",
          "output_type": "stream",
          "text": [
            "O ator/atriz com a maior média por filme é Anthony Daniels\n"
          ]
        }
      ],
      "source": [
        "medias_ordenadas = actors.sort_values(by='Average per Movie', ascending=False)\n",
        "\n",
        "ator_maior_media = medias_ordenadas.iloc[0]\n",
        "\n",
        "nome_ator = ator_maior_media['Actor']\n",
        "\n",
        "print(f\"O ator/atriz com a maior média por filme é {nome_ator}\")"
      ]
    },
    {
      "cell_type": "markdown",
      "metadata": {
        "id": "ESyuX9Sk0rIo"
      },
      "source": [
        "### 4) Apresente o nome do(s) filme(s) mais frequente(s) e sua respectiva frequência."
      ]
    },
    {
      "cell_type": "code",
      "execution_count": 15,
      "metadata": {
        "colab": {
          "base_uri": "https://localhost:8080/"
        },
        "id": "kmE38N-txKIV",
        "outputId": "b60f0117-f0cd-4693-8e17-0c7eef587c46"
      },
      "outputs": [
        {
          "name": "stdout",
          "output_type": "stream",
          "text": [
            "O filme The Avengers aparece 6 vez(es) no dataset.\n"
          ]
        }
      ],
      "source": [
        "filmes_ordenados = actors['#1 Movie'].value_counts()\n",
        "filme_mais_frequente = filmes_ordenados.index[0]  # acessando o primeiro índice, que é o filme mais frequente\n",
        "maior_frequencia = filmes_ordenados.iloc[0] # # acessando a frequência do primeiro índice\n",
        "print(f'O filme {filme_mais_frequente} aparece {maior_frequencia} vez(es) no dataset.')"
      ]
    }
  ],
  "metadata": {
    "colab": {
      "provenance": []
    },
    "kernelspec": {
      "display_name": "Python 3",
      "name": "python3"
    },
    "language_info": {
      "name": "python"
    }
  },
  "nbformat": 4,
  "nbformat_minor": 0
}
