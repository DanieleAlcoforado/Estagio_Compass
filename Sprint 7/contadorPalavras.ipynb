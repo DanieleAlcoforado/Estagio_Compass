{
 "cells": [
  {
   "cell_type": "code",
   "execution_count": null,
   "id": "bca8b9bd-5c4a-4f12-864d-ae5abe8bb257",
   "metadata": {},
   "outputs": [],
   "source": [
    "from pyspark import SparkContext\n",
    "\n",
    "# Criando um SparkContext\n",
    "sc = SparkContext(appName=\"ContadorPalavras\")"
   ]
  },
  {
   "cell_type": "code",
   "execution_count": 23,
   "id": "27362698-7264-48db-8231-5772864a144c",
   "metadata": {},
   "outputs": [
    {
     "name": "stdout",
     "output_type": "stream",
     "text": [
      "README.md  Untitled.ipynb  work\n"
     ]
    }
   ],
   "source": [
    "!ls"
   ]
  },
  {
   "cell_type": "code",
   "execution_count": 24,
   "id": "1ed2c4d5-1bbd-476a-8d11-6ddc9b57ddf3",
   "metadata": {},
   "outputs": [],
   "source": [
    "# Carregando o arquivo README.md como um RDD\n",
    "texto_rdd = sc.textFile(\"README.md\")\n",
    "\n",
    "# Para cada linha, dividir em palavras e realizar o mapeamento\n",
    "palavras_rdd = texto_rdd.flatMap(lambda linha: linha.split(\" \"))"
   ]
  },
  {
   "cell_type": "code",
   "execution_count": 25,
   "id": "908e92a8-c34e-4810-99eb-112c2440fdf9",
   "metadata": {},
   "outputs": [],
   "source": [
    "import re\n",
    "\n",
    "# Função para pre-processar as palavras\n",
    "def preprocessar_palavras(palavra):\n",
    "    # Removendo pontuações\n",
    "    palavra = re.sub(r'[^\\w\\s]','',palavra)\n",
    "    # Transformando todas as letras em minúsculas\n",
    "    palavra = palavra.lower()\n",
    "    return palavra"
   ]
  },
  {
   "cell_type": "code",
   "execution_count": 26,
   "id": "702aa2e1-8e75-4c0e-897a-e4d09d05640b",
   "metadata": {},
   "outputs": [],
   "source": [
    "# Aplicando a função de pre-processamento a todas as palavras do arquivo\n",
    "palavras_limpas_rdd = palavras_rdd.map(preprocessar_palavras)"
   ]
  },
  {
   "cell_type": "code",
   "execution_count": 28,
   "id": "05846a77-ff5f-44ee-af5e-31e06f3b76cf",
   "metadata": {},
   "outputs": [
    {
     "name": "stdout",
     "output_type": "stream",
     "text": [
      "[('', 993), ('hello', 1), ('world', 1), ('sou', 2), ('nome', 6), ('alcoforado', 1), ('26', 1), ('moro', 1), ('empolgada', 1), ('por', 7), ('oportunidade', 1), ('estagiar', 1), ('na', 2), ('aprender', 1), ('sua', 1), ('equipe', 3), ('espero', 1), ('também', 2), ('poder', 1), ('contribuir', 2), ('da', 7), ('empresa', 1), ('melhor', 1), ('apaixonada', 1), ('ciência', 2), ('trazem', 1), ('para', 13), ('mestrado', 2), ('técnicas', 1), ('analisar', 1), ('problemas', 3), ('saúde', 1), ('mental', 1), ('no', 5), ('brasil', 1), ('interesse', 1), ('área', 1), ('surgiu', 1), ('ainda', 1), ('durante', 2), ('minha', 1), ('só', 1), ('cresceu', 1), ('o', 26), ('contato', 3), ('maior', 1), ('tive', 1), ('algumas', 1), ('crescer', 1), ('insights', 1), ('deles', 1), ('uninter', 1), ('semestre', 2), ('ciências', 1), ('biomédicas', 1), ('ufdpar', 1), ('2021', 1), ('aprendendo', 1), ('big', 1), ('machine', 1), ('learning', 1), ('artificial', 1), ('visualização', 1), ('bioinformática', 1), ('python', 1), ('hobbies', 1), ('amo', 1), ('3', 1), ('assistir', 1), ('séries', 1), ('suspense', 1), ('lugares', 1), ('redes', 2), ('à', 1), ('vontade', 1), ('entrar', 1), ('comigo', 1), ('será', 1), ('um', 15), ('prazer', 1), ('trocar', 1), ('conhecimentos', 1), ('você', 1), ('github', 2), ('controle', 5), ('pelo', 1), ('funcionamento', 1), ('githttpslearnlinuxcombreditorfilesgit_comptjpg', 1), ('permite', 3), ('ao', 2), ('tempo', 2), ('ele', 5), ('entre', 3), ('pois', 1), ('trabalhem', 1), ('diferentes', 1), ('versões', 1), ('podendo', 1), ('otimizando', 1), ('organização', 1), ('utilizados', 3), ('remotamente', 1), ('uma', 9), ('interface', 2), ('web', 1), ('recursos', 5), ('rastreamento', 1), ('gerenciamento', 2), ('projetos', 1), ('revisão', 1), ('código', 2), ('contínua', 1), ('além', 2), ('disso', 2), ('desenvolvedores', 1), ('repositório', 9), ('clona', 1), ('existente', 1), ('add', 2), ('todos', 1), ('as', 4), ('adicionadas', 1), ('push', 1), ('commits', 1), ('pull', 1), ('ações', 1), ('branch', 7), ('lista', 1), ('existentes', 1), ('nova', 2), ('checkout', 1), ('ramificação', 1), ('combina', 1), ('mostra', 1), ('incluindo', 1), ('esses', 1), ('apenas', 1), ('alguns', 1), ('há', 1), ('apresentados', 1), ('disponíveis', 1), ('auxiliar', 1), ('operacional', 2), ('aberto', 1), ('utilizado', 1), ('estabilidade', 1), ('segurança', 1), ('ampla', 2), ('gama', 2), ('opções', 1), ('assim', 1), ('usuários', 1), ('podem', 2), ('preferências', 1), ('específicas', 1), ('altamente', 1), ('virtualização', 1), ('permitindo', 1), ('criação', 2), ('máquinas', 1), ('virtuais', 1), ('ser', 1), ('kernel', 1), ('hardware', 2), ('serviços', 1), ('processos', 1), ('execução', 1), ('garantir', 1), ('diretórios', 5), ('navegar', 1), ('criar', 1), ('mover', 1), ('exibir', 2), ('pesquisar', 1), ('alterar', 1), ('permissões', 1), ('acesso', 1), ('privilégios', 1), ('superusuário', 1), ('man', 1), ('texto', 3), ('nano', 2), ('editor', 2), ('simples', 2), ('possui', 1), ('fácil', 1), ('usar', 1), ('exibidos', 1), ('tela', 1), ('básicos', 1), ('colar', 1), ('procurar', 1), ('substituir', 1), ('desfazer', 1), ('rápido', 1), ('tarefas', 1), ('scripts', 1), ('sintaxe', 1), ('suporte', 1), ('plugins', 1), ('seção', 2), ('1', 2), ('eu', 1), ('a', 12), ('daniele', 2), ('olá', 1), ('meu', 4), ('é', 11), ('tenho', 2), ('anos', 1), ('e', 35), ('em', 12), ('parnaíba', 1), ('pi', 1), ('estou', 3), ('ter', 1), ('essa', 1), ('de', 46), ('compass', 1), ('com', 12), ('incrível', 1), ('os', 8), ('objetivos', 1), ('forma', 1), ('tecnologia', 2), ('pelos', 1), ('impactos', 1), ('positivos', 1), ('que', 8), ('sociedade', 1), ('atualmente', 3), ('desenvolvendo', 1), ('projeto', 2), ('utilizando', 1), ('mineração', 2), ('dados', 7), ('descrever', 1), ('públicos', 1), ('relacionadas', 1), ('aos', 1), ('pela', 1), ('primeira', 1), ('graduação', 3), ('após', 1), ('experiências', 1), ('objetivo', 1), ('como', 6), ('cientista', 1), ('novos', 2), ('resolução', 1), ('meio', 2), ('formação', 1), ('acadêmica', 1), ('2º', 1), ('3º', 1), ('biomedicina', 1), ('ufpi', 1), ('2016', 1), ('data', 1), ('inteligência', 1), ('interesses', 1), ('animais', 1), ('estar', 1), ('natureza', 1), ('gatinhas', 1), ('resgatei', 1), ('filmes', 1), ('ficção', 1), ('científica', 1), ('thriller', 1), ('psicológico', 1), ('conhecer', 1), ('ler', 1), ('desenhar', 1), ('sociais', 2), ('linkedinhttpsimgshieldsiobadgelinkedin0077b5styleforthebadgelogolinkedinlogocolorwhitehttpswwwlinkedincomindanielealcoforadocosta55aa06205', 1), ('githubhttpsimgshieldsiobadgegithub100000styleforthebadgelogogithublogocolorwhitehttpsgithubcomdanielealcoforado', 1), ('instagramhttpsimgshieldsiobadgeinstagrame4405fstyleforthebadgelogoinstagramlogocolorwhitehttpswwwinstagramcomdanielealcoforado', 1), ('fique', 1), ('pelas', 1), ('acima', 1), ('conectar', 1), ('2', 1), ('resumo', 1), ('sprint', 1), ('git', 22), ('fluxo', 1), ('do', 13), ('versão', 5), ('sistema', 3), ('rastrear', 1), ('gerenciar', 2), ('alterações', 4), ('arquivos', 11), ('longo', 1), ('facilita', 1), ('colaboração', 2), ('membros', 1), ('simultaneamente', 1), ('branches', 2), ('atualizálas', 1), ('facilmente', 1), ('trabalho', 2), ('dos', 2), ('principais', 5), ('servidores', 1), ('armazenar', 1), ('repositórios', 1), ('fornece', 1), ('amigável', 2), ('facilitam', 1), ('integração', 1), ('conhecido', 1), ('seu', 2), ('papel', 1), ('plataforma', 1), ('social', 1), ('comandos', 5), ('comando', 4), ('descrição', 2), ('init', 1), ('inicializa', 1), ('localmente', 1), ('clone', 1), ('url', 1), ('computador', 1), ('arquivo', 5), ('adiciona', 2), ('específico', 2), ('modificados', 2), ('commit', 2), ('m', 1), ('mensagem', 2), ('registra', 1), ('descritiva', 1), ('envia', 1), ('remoto', 2), ('atualiza', 1), ('local', 1), ('mais', 2), ('recentes', 1), ('rm', 2), ('remove', 1), ('log', 1), ('apresenta', 1), ('histórico', 1), ('executadas', 1), ('ramificações', 1), ('cria', 1), ('alterna', 1), ('específica', 1), ('merge', 1), ('outra', 1), ('status', 2), ('atual', 1), ('são', 2), ('comuns', 1), ('muitos', 1), ('outros', 2), ('foram', 1), ('cursos', 1), ('linux', 4), ('características', 2), ('amplamente', 1), ('suas', 2), ('flexibilidade', 1), ('personalização', 2), ('adaptar', 1), ('às', 1), ('necessidades', 1), ('compatível', 1), ('vms', 1), ('softwares', 1), ('virtualbox', 1), ('ou', 3), ('vmware', 1), ('responsável', 1), ('fornecer', 1), ('comunicação', 1), ('software', 1), ('ls', 1), ('listar', 1), ('cd', 1), ('mkdir', 1), ('novo', 1), ('diretório', 1), ('remover', 1), ('cp', 1), ('copiar', 2), ('mv', 1), ('renomear', 1), ('cat', 1), ('conteúdo', 1), ('grep', 1), ('padrões', 1), ('chmod', 1), ('sudo', 1), ('executar', 1), ('manual', 1), ('editores', 1), ('intuitiva', 1), ('parte', 1), ('inferior', 1), ('oferece', 2), ('edição', 2), ('leve', 1), ('ideal', 1), ('configuração', 2), ('pequenos', 1), ('vim', 2), ('realce', 1), ('autocompletar', 1), ('navegação', 1), ('eficiente', 1), ('extensiva', 1)]\n"
     ]
    }
   ],
   "source": [
    "# Contando a frequência de cada palavra\n",
    "frequencias_palavras = palavras_limpas_rdd.map(lambda palavra: (palavra, 1)).reduceByKey(lambda a,b: a+b)\n",
    "\n",
    "# Exibindo os resultados\n",
    "print(frequencias_palavras.collect())"
   ]
  },
  {
   "cell_type": "code",
   "execution_count": null,
   "id": "d4abde19-bfc5-48e8-9da1-49a7cac5f9d2",
   "metadata": {},
   "outputs": [],
   "source": []
  }
 ],
 "metadata": {
  "kernelspec": {
   "display_name": "Python 3 (ipykernel)",
   "language": "python",
   "name": "python3"
  },
  "language_info": {
   "codemirror_mode": {
    "name": "ipython",
    "version": 3
   },
   "file_extension": ".py",
   "mimetype": "text/x-python",
   "name": "python",
   "nbconvert_exporter": "python",
   "pygments_lexer": "ipython3",
   "version": "3.11.5"
  }
 },
 "nbformat": 4,
 "nbformat_minor": 5
}
