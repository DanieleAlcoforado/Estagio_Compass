{
 "cells": [
  {
   "cell_type": "markdown",
   "id": "b2a1f7f8",
   "metadata": {},
   "source": [
    "# Resolução das questões"
   ]
  },
  {
   "cell_type": "markdown",
   "id": "2a1279dc",
   "metadata": {},
   "source": [
    "### Tratamento de dados"
   ]
  },
  {
   "cell_type": "code",
   "execution_count": 2,
   "id": "50149486",
   "metadata": {
    "scrolled": false
   },
   "outputs": [],
   "source": [
    "# função que faz a interpretação da linha de um .csv\n",
    "def dividir_linha(linha):\n",
    "    linha_dividida = [] # lista que armazenará os valores de cada linha\n",
    "    valor_atual = \"\" # variável auxiliar que armazena por caractere cada valor da linha\n",
    "    entre_aspas = False # variável que verifica se um valor da linha está entre aspas\n",
    "\n",
    "    # percorre cada caractere para fazer o tratamento adequado\n",
    "    for char in linha:\n",
    "        if char == '\"': # verifica se houve abertura ou fechamento de aspas\n",
    "            entre_aspas = not entre_aspas \n",
    "        elif char == ',' and not entre_aspas: # verifica se a vírgula está como separador de coluna\n",
    "            linha_dividida.append(valor_atual.strip())\n",
    "            valor_atual = \"\"\n",
    "        else: # se não, o caractere é adicionado ao valor atual\n",
    "            valor_atual += char\n",
    "\n",
    "    # adicionando o último valor após o último separador da linha do .csv\n",
    "    linha_dividida.append(valor_atual.strip())\n",
    "    return linha_dividida\n",
    "\n",
    "# acessando o arquivo \"actors.csv\"\n",
    "arquivo_original = 'C:\\\\Users\\\\Danie\\\\Documents\\\\Desafio ETL\\\\actors.csv'\n",
    "\n",
    "# lista vazia que vai armazenar os dados/conteúdo do arquivo \"actors.csv\"\n",
    "conteudo_actors = []\n",
    "\n",
    "#acessando o arquivo e lendo as linhas\n",
    "with open(arquivo_original,'r') as arquivo:\n",
    "  linhas = arquivo.readlines() \n",
    "\n",
    "  for linha in linhas:\n",
    "    colunas = dividir_linha(linha.strip())\n",
    "    conteudo_actors.append(colunas)"
   ]
  },
  {
   "cell_type": "code",
   "execution_count": 8,
   "id": "8e73bc66",
   "metadata": {},
   "outputs": [
    {
     "data": {
      "text/plain": [
       "['Actor',\n",
       " 'Total Gross',\n",
       " 'Number of Movies',\n",
       " 'Average per Movie',\n",
       " '#1 Movie',\n",
       " 'Gross']"
      ]
     },
     "execution_count": 8,
     "metadata": {},
     "output_type": "execute_result"
    }
   ],
   "source": [
    "# acessar a primeira linha, que é referente ao cabeçalho do arquivo\n",
    "primeira_linha = conteudo_actors[0]\n",
    "\n",
    "primeira_linha"
   ]
  },
  {
   "cell_type": "markdown",
   "id": "5e88c07f",
   "metadata": {},
   "source": [
    "### 1) Apresente o ator/atriz com maior número de filmes e a respectiva quantidade."
   ]
  },
  {
   "cell_type": "code",
   "execution_count": 21,
   "id": "851a5edb",
   "metadata": {},
   "outputs": [],
   "source": [
    "txt_1 = \"C:\\\\Users\\\\Danie\\\\Documents\\\\Desafio ETL\\\\etapa-1.txt\"\n",
    "maior_valor = 0\n",
    "nome_ator = \"\"\n",
    "\n",
    "for linha in conteudo_actors[1:]:\n",
    "    if maior_valor < int(linha[2]):\n",
    "        maior_valor = int(linha[2])\n",
    "        nome_ator = linha[0]\n",
    "        \n",
    "with open(txt_1,'w') as arquivo_txt:\n",
    "    arquivo_txt.write(f'Ator: {nome_ator}\\nNúmero de filmes: {maior_valor}.')"
   ]
  },
  {
   "cell_type": "markdown",
   "id": "31fba501",
   "metadata": {},
   "source": [
    "### 2) Apresente a média de faturamento bruto por ator."
   ]
  },
  {
   "cell_type": "code",
   "execution_count": 23,
   "id": "290583bb",
   "metadata": {},
   "outputs": [],
   "source": [
    "txt_2 = \"C:\\\\Users\\\\Danie\\\\Documents\\\\Desafio ETL\\\\etapa-2.txt\"\n",
    "\n",
    "with open(txt_2,'w') as arquivo_txt:\n",
    "    for linha in conteudo_actors[1:]:\n",
    "        media_faturamento = linha[3]\n",
    "        nome_ator = linha[0]\n",
    "        arquivo_txt.write(f'Ator/atriz: {nome_ator}. Média de faturamento bruto: {media_faturamento}.\\n')"
   ]
  },
  {
   "cell_type": "markdown",
   "id": "1be2fa93",
   "metadata": {},
   "source": [
    "### 3) Apresente o ator/atriz com a maior média de faturamento por filme."
   ]
  },
  {
   "cell_type": "code",
   "execution_count": 20,
   "id": "929d1f75",
   "metadata": {},
   "outputs": [],
   "source": [
    "txt_3 = \"C:\\\\Users\\\\Danie\\\\Documents\\\\Desafio ETL\\\\etapa-3.txt\"\n",
    "maior_media = 0\n",
    "\n",
    "with open(txt_3,'w') as arquivo_txt:\n",
    "    for linha in conteudo_actors[1:]:\n",
    "        if float(linha[3]) > maior_media:\n",
    "            maior_media = float(linha[3])\n",
    "            nome_ator = linha[0]\n",
    "    arquivo_txt.write(f'Ator: {nome_ator}. Média de faturamento por filme: {maior_media}.')"
   ]
  },
  {
   "cell_type": "markdown",
   "id": "39f0ab42",
   "metadata": {},
   "source": [
    "### 4) O nome do(s) filme(s) mais frequente(s) e sua respectiva frequência."
   ]
  },
  {
   "cell_type": "code",
   "execution_count": 24,
   "id": "7c6a9d89",
   "metadata": {},
   "outputs": [],
   "source": [
    "txt_4 = \"C:\\\\Users\\\\Danie\\\\Documents\\\\Desafio ETL\\\\etapa-4.txt\"\n",
    "frequencias = {}\n",
    "\n",
    "for linha in conteudo_actors[1:]:\n",
    "    if linha[4] not in frequencias:\n",
    "        frequencias[linha[4]] = 1\n",
    "    else:\n",
    "        frequencias[linha[4]] += 1\n",
    "        \n",
    "maior_frequencia = max(frequencias.values())\n",
    "\n",
    "with open(txt_4,'w') as arquivo_txt:\n",
    "    for chave, valor in frequencias.items():\n",
    "        if valor == maior_frequencia:\n",
    "            arquivo_txt.write(f'{chave}: {valor} vezes')"
   ]
  },
  {
   "cell_type": "markdown",
   "id": "7db311c7",
   "metadata": {},
   "source": [
    "### 5) A lista dos atores ordenada pelo faturamento bruto total, em ordem decrescente."
   ]
  },
  {
   "cell_type": "code",
   "execution_count": 25,
   "id": "e7b4eccb",
   "metadata": {},
   "outputs": [],
   "source": [
    "txt_5 = \"C:\\\\Users\\\\Danie\\\\Documents\\\\Desafio ETL\\\\etapa-5.txt\"\n",
    "faturamentos = {}\n",
    "\n",
    "for linha in conteudo_actors[1:]:\n",
    "    faturamentos[linha[0]] = linha[1]\n",
    "\n",
    "faturamento_ordenado = dict(sorted(faturamentos.items(), key=lambda x: x[1], reverse=True))\n",
    "\n",
    "with open(txt_5,'w') as arquivo_txt:\n",
    "    for chave, valor in faturamento_ordenado.items():\n",
    "        arquivo_txt.write(f'{chave}: {valor}\\n')"
   ]
  }
 ],
 "metadata": {
  "kernelspec": {
   "display_name": "Python 3 (ipykernel)",
   "language": "python",
   "name": "python3"
  },
  "language_info": {
   "codemirror_mode": {
    "name": "ipython",
    "version": 3
   },
   "file_extension": ".py",
   "mimetype": "text/x-python",
   "name": "python",
   "nbconvert_exporter": "python",
   "pygments_lexer": "ipython3",
   "version": "3.10.9"
  }
 },
 "nbformat": 4,
 "nbformat_minor": 5
}
