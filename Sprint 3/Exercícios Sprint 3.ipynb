{
 "cells": [
  {
   "cell_type": "markdown",
   "id": "80479ccd",
   "metadata": {},
   "source": [
    "## Exercício 1"
   ]
  },
  {
   "cell_type": "code",
   "execution_count": 3,
   "id": "feae2f8c",
   "metadata": {},
   "outputs": [
    {
     "name": "stdout",
     "output_type": "stream",
     "text": [
      "Digite seu nome: Dani\n",
      "Digite a sua idade (apenas dígitos): 26\n",
      "2097\n"
     ]
    }
   ],
   "source": [
    "from datetime import datetime\n",
    "\n",
    "# entrada dos valores pelo usuário\n",
    "nome = input('Digite seu nome: ')\n",
    "idade = input('Digite a sua idade (apenas dígitos): ')\n",
    "\n",
    "diferenca_anos = 100 - int(idade) # diferença de anos entre 100 e a idade atual\n",
    "ano_atual = datetime.now().year # acessando o ano atual\n",
    "resposta = ano_atual + diferenca_anos # ano em que a pessoa completa 100 anos\n",
    "\n",
    "print(resposta)"
   ]
  },
  {
   "cell_type": "markdown",
   "id": "498378a7",
   "metadata": {},
   "source": [
    "## Exercício 2"
   ]
  },
  {
   "cell_type": "code",
   "execution_count": 65,
   "id": "b0b7a1c4",
   "metadata": {
    "scrolled": true
   },
   "outputs": [
    {
     "name": "stdout",
     "output_type": "stream",
     "text": [
      "Digite um número: 5\n",
      "Ímpar: 5\n",
      "Digite um número: 6\n",
      "Par: 6\n",
      "Digite um número: 7\n",
      "Ímpar: 7\n"
     ]
    }
   ],
   "source": [
    "# função que verifica se um número é par ou ímpar\n",
    "def verificar_par_ou_impar(numero):\n",
    "    if numero % 2 == 0:\n",
    "        return \"Par: \" + str(numero)\n",
    "    else:\n",
    "        return \"Ímpar: \" + str(numero)\n",
    "\n",
    "# função que solicita que 3 números sejam digitados, chama a função de verificação e imprime o resultado\n",
    "for i in range(3):\n",
    "    numero = int(input(\"Digite um número: \"))\n",
    "    resultado = verificar_par_ou_impar(numero)\n",
    "    print(resultado)"
   ]
  },
  {
   "cell_type": "markdown",
   "id": "06c9eb45",
   "metadata": {},
   "source": [
    "## Exercício 3"
   ]
  },
  {
   "cell_type": "code",
   "execution_count": 66,
   "id": "f737e1b9",
   "metadata": {},
   "outputs": [
    {
     "name": "stdout",
     "output_type": "stream",
     "text": [
      "0\n",
      "2\n",
      "4\n",
      "6\n",
      "8\n",
      "10\n",
      "12\n",
      "14\n",
      "16\n",
      "18\n",
      "20\n"
     ]
    }
   ],
   "source": [
    "for num in range(0, 21, 2):\n",
    "    print(num)"
   ]
  },
  {
   "cell_type": "markdown",
   "id": "c558a3e5",
   "metadata": {},
   "source": [
    "## Exercício 4"
   ]
  },
  {
   "cell_type": "code",
   "execution_count": 17,
   "id": "7137d0e9",
   "metadata": {},
   "outputs": [
    {
     "name": "stdout",
     "output_type": "stream",
     "text": [
      "2\n",
      "3\n",
      "5\n",
      "7\n",
      "11\n",
      "13\n",
      "17\n",
      "19\n",
      "23\n",
      "29\n",
      "31\n",
      "37\n",
      "41\n",
      "43\n",
      "47\n",
      "53\n",
      "59\n",
      "61\n",
      "67\n",
      "71\n",
      "73\n",
      "79\n",
      "83\n",
      "89\n",
      "97\n"
     ]
    }
   ],
   "source": [
    "def num_primo(num):\n",
    "    if num < 2:  # Se o número for menor que 2, não é primo\n",
    "        return False\n",
    "    for i in range(2, int(num ** 0.5) + 1):  # Loop de 2 até a raiz quadrada do número (arredondado para cima)\n",
    "        if num % i == 0:  # Se o número for divisível por algum número no intervalo, não é primo\n",
    "            return False\n",
    "    return True\n",
    "\n",
    "for num in range(1, 101):  # Loop de 1 a 100\n",
    "    if num_primo(num):  # Se o número for primo, imprime o número\n",
    "        print(num)"
   ]
  },
  {
   "cell_type": "markdown",
   "id": "935dcab4",
   "metadata": {},
   "source": [
    "## Exercício 5"
   ]
  },
  {
   "cell_type": "code",
   "execution_count": 18,
   "id": "4b4eb28b",
   "metadata": {},
   "outputs": [
    {
     "name": "stdout",
     "output_type": "stream",
     "text": [
      "22/10/2022\n"
     ]
    }
   ],
   "source": [
    "dia = 22\n",
    "mes = 10\n",
    "ano = 2022\n",
    "\n",
    "print(str(dia) + '/' + str(mes) + '/' + str(ano))"
   ]
  },
  {
   "cell_type": "markdown",
   "id": "7bf432c5",
   "metadata": {},
   "source": [
    "## Exercício 6\n",
    "### Duas formas de fazer"
   ]
  },
  {
   "cell_type": "code",
   "execution_count": 1,
   "id": "9002220a",
   "metadata": {},
   "outputs": [
    {
     "name": "stdout",
     "output_type": "stream",
     "text": [
      "[1, 2, 3, 5, 8, 14]\n"
     ]
    }
   ],
   "source": [
    "a = [1, 1, 2, 3, 5, 8, 14, 21, 34, 55, 89] \n",
    "b = [1, 2, 3, 4, 5, 6, 7, 8, 9, 10, 11, 12, 13, 14, 15]  \n",
    "\n",
    "a_set = set(a)  # convertendo a lista 'a' em um conjunto e removendo duplicatas\n",
    "b_set = set(b)  # convertendo a lista 'a' em um conjunto e removendo duplicatas\n",
    "\n",
    "intersecao = list(a_set & b_set)  # acessando a interseção dos dois conjuntos e convertendo o resultado em lista\n",
    "\n",
    "print(intersecao)"
   ]
  },
  {
   "cell_type": "code",
   "execution_count": 19,
   "id": "118bc759",
   "metadata": {},
   "outputs": [
    {
     "name": "stdout",
     "output_type": "stream",
     "text": [
      "[1, 2, 3, 5, 8, 14]\n"
     ]
    }
   ],
   "source": [
    "a = [1, 1, 2, 3, 5, 8, 14, 21, 34, 55, 89]\n",
    "b = [1, 2, 3, 4, 5, 6, 7, 8, 9, 10, 11, 12, 13, 14, 15]\n",
    "intersecao = []\n",
    "\n",
    "# para cada número da lista 'a' que não está presente em 'b' e nem em 'intersecao', adiciona-se este número na lista 'intersecao'\n",
    "for num in a:\n",
    "    if num in b and num not in intersecao:\n",
    "        intersecao.append(num)\n",
    "\n",
    "print(intersecao)"
   ]
  },
  {
   "cell_type": "markdown",
   "id": "04607c14",
   "metadata": {},
   "source": [
    "## Exercício 7"
   ]
  },
  {
   "cell_type": "code",
   "execution_count": 20,
   "id": "90cadc56",
   "metadata": {},
   "outputs": [
    {
     "name": "stdout",
     "output_type": "stream",
     "text": [
      "[1, 9, 25, 49, 81]\n"
     ]
    }
   ],
   "source": [
    "a = [1, 4, 9, 16, 25, 36, 49, 64, 81, 100]\n",
    "impar = []\n",
    "\n",
    "# os elemento da lista 'a' que não forem divisíveis por 2 são adicionados na lista 'impar'\n",
    "for num in a:\n",
    "    if num % 2 != 0:\n",
    "        impar.append(num)\n",
    "\n",
    "print(impar)"
   ]
  },
  {
   "cell_type": "markdown",
   "id": "5cf42dd0",
   "metadata": {},
   "source": [
    "## Exercício 8"
   ]
  },
  {
   "cell_type": "code",
   "execution_count": 26,
   "id": "d003f489",
   "metadata": {},
   "outputs": [
    {
     "name": "stdout",
     "output_type": "stream",
     "text": [
      "A palavra: maça não é um palíndromo.\n",
      "\n",
      "A palavra: arara é um palíndromo.\n",
      "\n",
      "A palavra: audio não é um palíndromo.\n",
      "\n",
      "A palavra: radio não é um palíndromo.\n",
      "\n",
      "A palavra: radar é um palíndromo.\n",
      "\n",
      "A palavra: moto não é um palíndromo.\n",
      "\n"
     ]
    }
   ],
   "source": [
    "words = ['maça', 'arara', 'audio', 'radio', 'radar', 'moto']\n",
    "\n",
    "for word in words:\n",
    "    if word == word[::-1]:\n",
    "        print('A palavra {} é um palíndromo.\\n'.format(word))\n",
    "    else:\n",
    "        print('A palavra {} não é um palíndromo.\\n'.format(word))"
   ]
  },
  {
   "cell_type": "markdown",
   "id": "50314998",
   "metadata": {},
   "source": [
    "## Exercício 9"
   ]
  },
  {
   "cell_type": "code",
   "execution_count": 67,
   "id": "188b58e7",
   "metadata": {},
   "outputs": [
    {
     "name": "stdout",
     "output_type": "stream",
     "text": [
      "0 - Joao Soares está com 19 anos\n",
      "1 - Douglas Souza está com 28 anos\n",
      "2 - Lucas Silveira está com 25 anos\n",
      "3 - José Pedreira está com 31 anos\n"
     ]
    }
   ],
   "source": [
    "primeirosNomes = ['Joao', 'Douglas', 'Lucas', 'José'] \n",
    "sobreNomes = ['Soares', 'Souza', 'Silveira', 'Pedreira']  \n",
    "idades = [19, 28, 25, 31] \n",
    "\n",
    "for indice, primeiro_nome in enumerate(primeirosNomes):\n",
    "    # 'enumerate(primeirosNomes)' retorna um objeto que contém pares (índice, primeiro_nome) para cada elemento na lista 'primeirosNomes'\n",
    "    sobrenome = sobreNomes[indice]  # acessa o sobrenome correspondente ao mesmo índice do primeiro nome\n",
    "    idade = idades[indice]  # acessa a idade correspondente ao mesmo índice do primeiro nome\n",
    "    print(f\"{indice} - {primeiro_nome} {sobrenome} está com {idade} anos\")"
   ]
  },
  {
   "cell_type": "markdown",
   "id": "4cb01852",
   "metadata": {},
   "source": [
    "## Exercício 10\n",
    "### Duas formas de fazer"
   ]
  },
  {
   "cell_type": "code",
   "execution_count": 14,
   "id": "0eb00bec",
   "metadata": {},
   "outputs": [
    {
     "name": "stdout",
     "output_type": "stream",
     "text": [
      "['abc', '123']\n"
     ]
    }
   ],
   "source": [
    "exemplo = ['abc', 'abc', 'abc', '123', 'abc', '123', '123'] \n",
    "\n",
    "def sem_duplicados(lista):\n",
    "    set_lista = set(lista)\n",
    "    nova_lista = list(set_lista)\n",
    "    print(nova_lista)\n",
    "    \n",
    "sem_duplicados(exemplo)"
   ]
  },
  {
   "cell_type": "code",
   "execution_count": 33,
   "id": "247d6d7d",
   "metadata": {},
   "outputs": [
    {
     "data": {
      "text/plain": [
       "['abc', '123']"
      ]
     },
     "execution_count": 33,
     "metadata": {},
     "output_type": "execute_result"
    }
   ],
   "source": [
    "def intersecao(lista):\n",
    "    nova_lista = []\n",
    "    for item in lista:\n",
    "        if item not in nova_lista:\n",
    "            nova_lista.append(item)\n",
    "    return nova_lista\n",
    "\n",
    "lista = ['abc', 'abc', 'abc', '123', 'abc', '123', '123']    \n",
    "intersecao(lista)"
   ]
  },
  {
   "cell_type": "markdown",
   "id": "d371aa32",
   "metadata": {},
   "source": [
    "## Exercício 11"
   ]
  },
  {
   "cell_type": "code",
   "execution_count": null,
   "id": "b9d2a06e",
   "metadata": {},
   "outputs": [],
   "source": [
    "arquivo = 'arquivo_texto.txt'\n",
    "\n",
    "leitura = open(arquivo,'r')\n",
    "\n",
    "conteudo = leitura.read()\n",
    "\n",
    "leitura.close()\n",
    "\n",
    "print(conteudo, end=\"\")"
   ]
  },
  {
   "cell_type": "markdown",
   "id": "c7625651",
   "metadata": {},
   "source": [
    "## Exercício 12"
   ]
  },
  {
   "cell_type": "code",
   "execution_count": null,
   "id": "8ac660e3",
   "metadata": {},
   "outputs": [],
   "source": [
    "import json\n",
    "\n",
    "with open('person.json','r') as arquivo:\n",
    "    conteudo = json.load(arquivo)\n",
    "\n",
    "print(conteudo)"
   ]
  },
  {
   "cell_type": "markdown",
   "id": "001a8afa",
   "metadata": {},
   "source": [
    "## Exercício 13"
   ]
  },
  {
   "cell_type": "code",
   "execution_count": 69,
   "id": "31211f14",
   "metadata": {},
   "outputs": [
    {
     "name": "stdout",
     "output_type": "stream",
     "text": [
      "[1, 4, 9, 16, 25, 36, 49, 64, 81, 100]\n"
     ]
    }
   ],
   "source": [
    "def my_map(lst, f): # Função que aplica a função 'f' a cada elemento da lista 'lst'\n",
    "    return [f(x) for x in lst] \n",
    "\n",
    "def potenciacao(x): # Função que recebe um número 'x' e retorna o valor de 'x' elevado ao quadrado\n",
    "    return x ** 2  \n",
    "\n",
    "\n",
    "lista = [1, 2, 3, 4, 5, 6, 7, 8, 9, 10]\n",
    "\n",
    "resultado = my_map(lista, potenciacao)\n",
    "# aplicando a função 'my_map' à lista 'lista' usando a função 'potenciacao' como argumento\n",
    "\n",
    "print(resultado)"
   ]
  },
  {
   "cell_type": "markdown",
   "id": "64eef342",
   "metadata": {},
   "source": [
    "## Exercício 14"
   ]
  },
  {
   "cell_type": "code",
   "execution_count": 70,
   "id": "bb785f77",
   "metadata": {},
   "outputs": [
    {
     "name": "stdout",
     "output_type": "stream",
     "text": [
      "1\n",
      "3\n",
      "4\n",
      "hello\n",
      "alguma coisa\n",
      "20\n"
     ]
    }
   ],
   "source": [
    "def imprimir_parametros(*args, **kwargs): # Função que recebe um número variável de parâmetros não nomeados (*args) e nomeados (**kwargs)\n",
    "    for arg in args: # Loop que itera sobre os parâmetros não nomeados e imprime cada um\n",
    "        print(arg)\n",
    "\n",
    "    for key, value in kwargs.items(): # Loop que itera sobre os parâmetros nomeados e imprime cada um\n",
    "        print(f\"{value}\")\n",
    "\n",
    "imprimir_parametros(1, 3, 4, 'hello', parametro_nomeado='alguma coisa', x=20)\n",
    "# Chamada da função"
   ]
  },
  {
   "cell_type": "markdown",
   "id": "55a40c23",
   "metadata": {},
   "source": [
    "## Exercício 15"
   ]
  },
  {
   "cell_type": "code",
   "execution_count": 71,
   "id": "23441088",
   "metadata": {},
   "outputs": [
    {
     "name": "stdout",
     "output_type": "stream",
     "text": [
      "True\n",
      "False\n"
     ]
    }
   ],
   "source": [
    "class Lampada:\n",
    "    def __init__(self, ligada=False):\n",
    "        # Método especial que é executado quando uma nova instância da classe é criada\n",
    "        # Recebe o parâmetro 'ligada' que por padrão é False\n",
    "        # Cria um atributo de instância 'ligada' e atribui o valor recebido como argumento\n",
    "        self.ligada = ligada\n",
    "    \n",
    "    def liga(self): # Método que liga a lâmpada\n",
    "        self.ligada = True\n",
    "    \n",
    "    def desliga(self): # Método que desliga a lâmpada\n",
    "        self.ligada = False\n",
    "    \n",
    "    def esta_ligada(self): # Método que verifica se a lâmpada está ligada ou desligada\n",
    "        return self.ligada\n",
    "\n",
    "# Criando uma nova instância da classe Lampada e aplicando os métodos\n",
    "lamp1 = Lampada()\n",
    "lamp1.liga() \n",
    "print(lamp1.esta_ligada()) \n",
    "lamp1.desliga() \n",
    "print(lamp1.esta_ligada())"
   ]
  },
  {
   "cell_type": "markdown",
   "id": "5dc077d7",
   "metadata": {},
   "source": [
    "## Exercício 16"
   ]
  },
  {
   "cell_type": "code",
   "execution_count": 72,
   "id": "ec1b0b15",
   "metadata": {},
   "outputs": [
    {
     "name": "stdout",
     "output_type": "stream",
     "text": [
      "100\n"
     ]
    }
   ],
   "source": [
    "def soma_valores(string):\n",
    "    numeros = string.split(',') # separa os elementos da string\n",
    "    calculo = sum(int(num) for num in numeros) # converte os elementos para inteiros e realiza o somatório de todos eles\n",
    "    return calculo\n",
    "\n",
    "string1 = \"1,3,4,6,10,76\"\n",
    "resultado = soma_valores(string1)\n",
    "print(resultado)"
   ]
  },
  {
   "cell_type": "markdown",
   "id": "377aabd3",
   "metadata": {},
   "source": [
    "## Exercício 17"
   ]
  },
  {
   "cell_type": "code",
   "execution_count": 73,
   "id": "baa167d3",
   "metadata": {},
   "outputs": [
    {
     "name": "stdout",
     "output_type": "stream",
     "text": [
      "[1, 2, 3, 4] [5, 6, 7, 8] [9, 10, 11, 12]\n"
     ]
    }
   ],
   "source": [
    "def dividir_lista(lista): # Função que recebe uma lista e a divide em três partes iguais\n",
    "    num_elementos = len(lista) # Obtém o número de elementos na lista\n",
    "    tamanho_parte = num_elementos // 3 # Calcula o tamanho aproximado de cada parte\n",
    "    partes = [lista[i:i + tamanho_parte] for i in range(0, num_elementos, tamanho_parte)] # Divide a lista em partes e cria sublistas contendo os elementos correspondentes a cada parte\n",
    "    return partes # Retorna a lista de partes\n",
    "\n",
    "lista = [1, 2, 3, 4, 5, 6, 7, 8, 9, 10, 11, 12]\n",
    "partes_divididas = dividir_lista(lista)\n",
    "\n",
    "for parte in range(len(partes_divididas)): # Loop que itera sobre as partes divididas\n",
    "    end = \" \"\n",
    "    if(parte == len(partes_divididas) - 1): # Verificando se é a última parte para alterar o caractere de final de linha\n",
    "        end = \"\\n\" \n",
    "    print(partes_divididas[parte], end=end) # Imprime cada parte"
   ]
  },
  {
   "cell_type": "markdown",
   "id": "35488c22",
   "metadata": {},
   "source": [
    "## Exercício 18"
   ]
  },
  {
   "cell_type": "code",
   "execution_count": 74,
   "id": "945cfc8b",
   "metadata": {},
   "outputs": [
    {
     "name": "stdout",
     "output_type": "stream",
     "text": [
      "[44, 47, 52, 53, 54]\n"
     ]
    }
   ],
   "source": [
    "speed = {'jan': 47, 'feb': 52, 'march': 47, 'April': 44, 'May': 52, 'June': 53, 'july': 54, 'Aug': 44, 'Sept': 54}\n",
    "\n",
    "valores = list(set(speed.values()))\n",
    "# acessando os valores do dicionário, convertendo em um set e em seguida em lista\n",
    "# os valores duplicados são removidos quando convertido em set\n",
    "\n",
    "print(valores)"
   ]
  },
  {
   "cell_type": "markdown",
   "id": "205a2cf0",
   "metadata": {},
   "source": [
    "## Exercício 19"
   ]
  },
  {
   "cell_type": "code",
   "execution_count": 62,
   "id": "336e1758",
   "metadata": {},
   "outputs": [
    {
     "name": "stdout",
     "output_type": "stream",
     "text": [
      "Media: 250.48, Mediana: 240.0, Mínimo: 23, Máximo: 487\n"
     ]
    }
   ],
   "source": [
    "import random\n",
    "import statistics\n",
    "\n",
    "random_list = random.sample(range(500), 50)\n",
    "# Cria uma lista com 50 números inteiros únicos selecionados aleatoriamente no intervalo de 0 a 499\n",
    "\n",
    "sorted_list = sorted(random_list)\n",
    "# Ordena a lista aleatória em ordem crescente\n",
    "\n",
    "soma = sum(sorted_list)\n",
    "media = soma / len(sorted_list)\n",
    "# Calcula a média dos elementos da lista \n",
    "\n",
    "mediana = statistics.median(sorted_list)\n",
    "# Calcula a mediana dos elementos da lista ordenada\n",
    "\n",
    "valor_minimo = min(sorted_list)\n",
    "# Encontra o valor mínimo na lista \n",
    "\n",
    "valor_maximo = max(sorted_list)\n",
    "# Encontra o valor máximo na lista \n",
    "\n",
    "print('Media: {}, Mediana: {}, Mínimo: {}, Máximo: {}'.format(media, mediana, valor_minimo, valor_maximo))"
   ]
  },
  {
   "cell_type": "markdown",
   "id": "b10d25f3",
   "metadata": {},
   "source": [
    "## Exercício 20"
   ]
  },
  {
   "cell_type": "code",
   "execution_count": 63,
   "id": "bcf19206",
   "metadata": {},
   "outputs": [
    {
     "name": "stdout",
     "output_type": "stream",
     "text": [
      "[89, 55, 34, 21, 13, 8, 5, 3, 2, 0, 1]\n"
     ]
    }
   ],
   "source": [
    "a = [1, 0, 2, 3, 5, 8, 13, 21, 34, 55, 89]\n",
    "\n",
    "print(a[::-1])"
   ]
  }
 ],
 "metadata": {
  "kernelspec": {
   "display_name": "Python 3 (ipykernel)",
   "language": "python",
   "name": "python3"
  },
  "language_info": {
   "codemirror_mode": {
    "name": "ipython",
    "version": 3
   },
   "file_extension": ".py",
   "mimetype": "text/x-python",
   "name": "python",
   "nbconvert_exporter": "python",
   "pygments_lexer": "ipython3",
   "version": "3.10.9"
  }
 },
 "nbformat": 4,
 "nbformat_minor": 5
}
