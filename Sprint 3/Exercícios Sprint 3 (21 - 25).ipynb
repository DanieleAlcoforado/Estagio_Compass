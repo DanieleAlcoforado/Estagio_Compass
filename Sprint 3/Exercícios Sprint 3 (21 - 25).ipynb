{
 "cells": [
  {
   "cell_type": "markdown",
   "id": "e7687688",
   "metadata": {},
   "source": [
    "## Exercício 21"
   ]
  },
  {
   "cell_type": "code",
   "execution_count": 1,
   "id": "1b36eb35",
   "metadata": {},
   "outputs": [
    {
     "name": "stdout",
     "output_type": "stream",
     "text": [
      "Pato\n",
      "Voando...\n",
      "Passaro emitindo som...\n",
      "Quack Quack\n",
      "\n",
      "Pardal\n",
      "Voando...\n",
      "Passaro emitindo som...\n",
      "Piu Piu\n"
     ]
    }
   ],
   "source": [
    "class Passaro:\n",
    "    def voar(self):\n",
    "        print(\"Voando...\")\n",
    "    \n",
    "    def emitir_som(self):\n",
    "        print(\"Passaro emitindo som...\")\n",
    "        \n",
    "\n",
    "class Pato(Passaro):\n",
    "    def emitir_som(self):\n",
    "        super().emitir_som()  # chamando o método emitir_som() da classe Passaro\n",
    "        print(\"Quack Quack\")  # imprimindo o som específico do pato\n",
    "\n",
    "\n",
    "class Pardal(Passaro):\n",
    "    def emitir_som(self):\n",
    "        super().emitir_som()  # chamando o método emitir_som() da classe Passaro\n",
    "        print(\"Piu Piu\")  # imprimindo o som específico do pardal\n",
    "\n",
    "\n",
    "# Testando as classes\n",
    "pato = Pato()\n",
    "print(\"Pato\")\n",
    "pato.voar()\n",
    "pato.emitir_som()\n",
    "\n",
    "print()\n",
    "\n",
    "pardal = Pardal()\n",
    "print(\"Pardal\")\n",
    "pardal.voar()\n",
    "pardal.emitir_som()"
   ]
  },
  {
   "cell_type": "markdown",
   "id": "84df5783",
   "metadata": {},
   "source": [
    "## Exercício 22"
   ]
  },
  {
   "cell_type": "code",
   "execution_count": 8,
   "id": "258afa71",
   "metadata": {},
   "outputs": [
    {
     "name": "stdout",
     "output_type": "stream",
     "text": [
      "Fulano De Tal\n"
     ]
    }
   ],
   "source": [
    "class Pessoa:\n",
    "    def __init__(self, id): # construtor da classe Pessoa\n",
    "        self.id = id\n",
    "        self.__nome = None \n",
    "\n",
    "    def nome(self, nome): # método que define o atributo 'nome'\n",
    "        self.__nome = nome  \n",
    "\n",
    "    def nome(self): # método que acessa o atributo 'nome'\n",
    "        return self.__nome \n",
    "\n",
    "# Testando\n",
    "pessoa = Pessoa(0)\n",
    "pessoa.nome = 'Fulano De Tal'\n",
    "print(pessoa.nome)"
   ]
  },
  {
   "cell_type": "markdown",
   "id": "75d169eb",
   "metadata": {},
   "source": [
    "## Exercício 23"
   ]
  },
  {
   "cell_type": "code",
   "execution_count": 49,
   "id": "b06addfd",
   "metadata": {},
   "outputs": [
    {
     "name": "stdout",
     "output_type": "stream",
     "text": [
      "Somando: 4 + 5 = 9\n",
      "Subtraindo: 4 - 5 = -1\n"
     ]
    }
   ],
   "source": [
    "class Calculo:\n",
    "    def soma(self,x,y): # método que realiza a soma de dois valores\n",
    "        resultado = x + y\n",
    "        return resultado\n",
    "    \n",
    "    def subtracao(self,x,y): # método que realiza a subtração de dois valores\n",
    "        resultado_subt = x - y\n",
    "        return resultado_subt\n",
    "\n",
    "calculo = Calculo() # instanciando o objeto 'calculo' e seus parâmetros\n",
    "x = 4\n",
    "y = 5\n",
    "\n",
    "# fazendo a chamada dos métodos para o objeto 'calculo'\n",
    "resultado_soma = calculo.soma(x,y)\n",
    "resultado_subtracao = calculo.subtracao(x,y)\n",
    "\n",
    "print(f'Somando: {x} + {y} = {resultado_soma}')\n",
    "print(f'Subtraindo: {x} - {y} = {resultado_subtracao}')"
   ]
  },
  {
   "cell_type": "markdown",
   "id": "7adc3b8f",
   "metadata": {},
   "source": [
    "## Exercício 24"
   ]
  },
  {
   "cell_type": "code",
   "execution_count": 40,
   "id": "4927f01f",
   "metadata": {},
   "outputs": [
    {
     "name": "stdout",
     "output_type": "stream",
     "text": [
      "[1, 2, 3, 4, 5]\n",
      "[9, 8, 7, 6]\n"
     ]
    }
   ],
   "source": [
    "class Ordenadora:\n",
    "    def __init__(self,listaBaguncada):\n",
    "        self.listaBaguncada = listaBaguncada\n",
    "        \n",
    "    def ordenacaoCrescente(self): # método que retorna a lista ordenada de forma crescente\n",
    "        return sorted(self.listaBaguncada)\n",
    "        \n",
    "    def ordenacaoDecrescente(self): # método que retorna a lista ordenada de forma decrescente\n",
    "        return sorted(self.listaBaguncada, reverse=True)\n",
    "        \n",
    "# instanciando objetos da classe 'Ordenadora'        \n",
    "crescente = Ordenadora([3,4,2,1,5]) \n",
    "decrescente = Ordenadora([9,7,6,8])\n",
    "\n",
    "# imprimindo as listas ordenadas\n",
    "print(crescente.ordenacaoCrescente())\n",
    "print(decrescente.ordenacaoDecrescente())"
   ]
  },
  {
   "cell_type": "markdown",
   "id": "ded73cd7",
   "metadata": {},
   "source": [
    "## Exercício 25"
   ]
  },
  {
   "cell_type": "code",
   "execution_count": 25,
   "id": "b75fa8c6",
   "metadata": {},
   "outputs": [
    {
     "name": "stdout",
     "output_type": "stream",
     "text": [
      "O avião de modelo BOIENG456 possui uma velocidade máxima de 1500 km/h, capacidade para 400 passageiros e é da cor Azul.\n",
      "O avião de modelo Embraer Praetor 600 possui uma velocidade máxima de 863km/h, capacidade para 14 passageiros e é da cor Azul.\n",
      "O avião de modelo Antonov An-2 possui uma velocidade máxima de 258 Km/h, capacidade para 12 passageiros e é da cor Azul.\n"
     ]
    }
   ],
   "source": [
    "class Aviao:\n",
    "    def __init__(self,modelo,velocidade_maxima,capacidade,cor='Azul'): # construtor da classe Aviao\n",
    "        self.modelo = modelo\n",
    "        self.velocidade_maxima = velocidade_maxima\n",
    "        self.cor = cor\n",
    "        self.capacidade = capacidade\n",
    "    \n",
    "    def imprimir_aviao(self): # método que imprime os atributos da classe 'Aviao'\n",
    "        print('O avião de modelo {} possui uma velocidade máxima de {}, capacidade para {} passageiros e é da cor {}.'.format(self.modelo, self.velocidade_maxima,self.capacidade,self.cor))\n",
    "\n",
    "# lista que armazena 3 aviões da classe 'Aviao'\n",
    "lista_avioes = [Aviao('BOIENG456','1500 km/h','400'),Aviao('Embraer Praetor 600','863km/h','14'),Aviao('Antonov An-2','258 Km/h','12')]\n",
    "\n",
    "# iterando sobre cada avião da lista para imprimir seus atributos\n",
    "for aviao in lista_avioes:\n",
    "    aviao.imprimir_aviao()"
   ]
  }
 ],
 "metadata": {
  "kernelspec": {
   "display_name": "Python 3 (ipykernel)",
   "language": "python",
   "name": "python3"
  },
  "language_info": {
   "codemirror_mode": {
    "name": "ipython",
    "version": 3
   },
   "file_extension": ".py",
   "mimetype": "text/x-python",
   "name": "python",
   "nbconvert_exporter": "python",
   "pygments_lexer": "ipython3",
   "version": "3.10.9"
  }
 },
 "nbformat": 4,
 "nbformat_minor": 5
}
