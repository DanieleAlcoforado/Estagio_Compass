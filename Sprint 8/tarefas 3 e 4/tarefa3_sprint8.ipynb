{
  "nbformat": 4,
  "nbformat_minor": 0,
  "metadata": {
    "colab": {
      "provenance": []
    },
    "kernelspec": {
      "name": "python3",
      "display_name": "Python 3"
    },
    "language_info": {
      "name": "python"
    }
  },
  "cells": [
    {
      "cell_type": "markdown",
      "source": [
        "[Warm up]  Em Python, declare e inicialize uma lista contendo 250 inteiros obtidos de forma aleatória. Após, aplicar o método reverse sobre o conteúdo da lista e imprimir o resultado."
      ],
      "metadata": {
        "id": "oyUdqG72fLVw"
      }
    },
    {
      "cell_type": "code",
      "source": [
        "import random"
      ],
      "metadata": {
        "id": "xkQ66dSjfPho"
      },
      "execution_count": null,
      "outputs": []
    },
    {
      "cell_type": "code",
      "source": [
        "inteiros_aleatorios = [random.randint(1,1000) for _ in range(250)]\n",
        "\n",
        "inteiros_aleatorios.reverse()\n",
        "\n",
        "print(inteiros_aleatorios)"
      ],
      "metadata": {
        "colab": {
          "base_uri": "https://localhost:8080/"
        },
        "id": "CQH6NUCufTRi",
        "outputId": "57521d2a-b4b4-44fc-cd16-59dfbc060690"
      },
      "execution_count": null,
      "outputs": [
        {
          "output_type": "stream",
          "name": "stdout",
          "text": [
            "[660, 81, 893, 467, 381, 762, 831, 946, 181, 851, 545, 624, 636, 29, 193, 859, 234, 478, 603, 653, 359, 783, 350, 47, 243, 357, 814, 387, 364, 92, 544, 147, 304, 567, 362, 273, 915, 843, 345, 207, 830, 131, 865, 978, 144, 116, 422, 249, 645, 165, 364, 692, 437, 443, 152, 741, 172, 976, 968, 57, 967, 644, 535, 120, 371, 553, 160, 998, 340, 391, 328, 481, 625, 719, 638, 700, 108, 607, 770, 202, 618, 172, 536, 448, 388, 997, 515, 823, 782, 185, 777, 587, 839, 571, 57, 508, 229, 562, 573, 217, 715, 123, 429, 999, 114, 325, 109, 52, 252, 899, 847, 974, 436, 319, 962, 455, 704, 879, 400, 682, 435, 554, 210, 828, 703, 261, 412, 59, 463, 509, 958, 608, 690, 492, 748, 841, 458, 716, 282, 703, 32, 656, 455, 403, 435, 381, 953, 149, 516, 496, 618, 968, 599, 402, 173, 109, 460, 700, 561, 197, 863, 923, 830, 876, 826, 896, 49, 3, 107, 607, 762, 695, 827, 513, 660, 111, 464, 114, 305, 968, 15, 511, 297, 433, 407, 730, 968, 578, 803, 921, 262, 25, 854, 507, 519, 209, 327, 782, 742, 686, 13, 771, 808, 632, 156, 829, 965, 880, 730, 24, 265, 960, 264, 663, 530, 75, 624, 8, 888, 445, 554, 664, 933, 610, 899, 290, 391, 620, 431, 475, 216, 249, 981, 789, 565, 560, 766, 787, 337, 116, 389, 388, 123, 183, 68, 19, 461, 564, 33, 75]\n"
          ]
        }
      ]
    },
    {
      "cell_type": "markdown",
      "source": [
        "[Warm up] Em Python, declare e inicialize uma lista contendo o nome de 20 animais. Ordene-os em ordem crescente e itere sobre os itens, imprimindo um a um (você pode utilizar list comprehension aqui).  Na sequência, armazene o conteúdo da lista em um arquivo de texto, um item em cada linha, no formato CSV."
      ],
      "metadata": {
        "id": "BFDKkd3LnfCm"
      }
    },
    {
      "cell_type": "code",
      "source": [
        "animais = [\"Cachorro\", \"Gato\", \"Elefante\", \"Leão\", \"Tigre\", \"Girafa\", \"Zebra\", \"Macaco\", \"Rinoceronte\", \"Panda\",\n",
        "           \"Cavalo\", \"Coelho\", \"Pássaro\", \"Gavião\", \"Crocodilo\", \"Pinguim\", \"Baleia\", \"Tubarão\", \"Peixe\"]\n",
        "\n",
        "animais.sort()\n",
        "\n",
        "print('Lista de animais em ordem crescente:')\n",
        "[print(animal) for animal in animais]\n",
        "\n",
        "with open('animais.csv','w') as arquivo_animais:\n",
        "  for animal in animais:\n",
        "    arquivo_animais.write(animal + '\\n')"
      ],
      "metadata": {
        "colab": {
          "base_uri": "https://localhost:8080/"
        },
        "id": "8WonkogPj9bg",
        "outputId": "5f014c4e-29c7-44ca-a742-a8cb35cf29c4"
      },
      "execution_count": null,
      "outputs": [
        {
          "output_type": "stream",
          "name": "stdout",
          "text": [
            "Lista de animais em ordem crescente:\n",
            "Baleia\n",
            "Cachorro\n",
            "Cavalo\n",
            "Coelho\n",
            "Crocodilo\n",
            "Elefante\n",
            "Gato\n",
            "Gavião\n",
            "Girafa\n",
            "Leão\n",
            "Macaco\n",
            "Panda\n",
            "Peixe\n",
            "Pinguim\n",
            "Pássaro\n",
            "Rinoceronte\n",
            "Tigre\n",
            "Tubarão\n",
            "Zebra\n"
          ]
        }
      ]
    },
    {
      "cell_type": "markdown",
      "source": [
        "[Laboratório] Elaborar um código Python para gerar um dataset de nomes aleatórios de pessoas."
      ],
      "metadata": {
        "id": "9LbzCHXnq-fm"
      }
    },
    {
      "cell_type": "code",
      "source": [
        "# Passo 1:  Instalar biblioteca names para geração de nomes aleatórios\n",
        "pip install names"
      ],
      "metadata": {
        "colab": {
          "base_uri": "https://localhost:8080/"
        },
        "id": "EpIpqSD2vCwM",
        "outputId": "35a6b268-d31c-4ffe-c238-c3800b1ff7ba"
      },
      "execution_count": null,
      "outputs": [
        {
          "output_type": "stream",
          "name": "stdout",
          "text": [
            "Requirement already satisfied: names in /usr/local/lib/python3.10/dist-packages (0.3.0)\n"
          ]
        }
      ]
    },
    {
      "cell_type": "code",
      "source": [
        "# Passo 2 Importar as bibliotecas random, time, os e names em seu código\n",
        "import names\n",
        "import time\n",
        "import random\n",
        "import os"
      ],
      "metadata": {
        "id": "GEMeMOyFu-pS"
      },
      "execution_count": null,
      "outputs": []
    },
    {
      "cell_type": "code",
      "execution_count": null,
      "metadata": {
        "id": "7bhp2jMUq6_j"
      },
      "outputs": [],
      "source": [
        "# Passo 3: Definir os parâmetros para geração do dataset, ou seja, a quantidades de nomes aleatórios e a quantidade de nomes que devem ser únicos.\n",
        "random.seed(40)\n",
        "qtd_nomes_unicos = 3000\n",
        "qtd_nomes_aleatorios = 10000000"
      ]
    },
    {
      "cell_type": "code",
      "source": [
        "# Passo 4: Gerar os nomes aleatórios.\n",
        "aux = []\n",
        "\n",
        "# loop para gerar e armazenar números aleatórios únicos na lista aux\n",
        "for i in range (0, qtd_nomes_unicos):\n",
        "  aux.append(names.get_full_name())"
      ],
      "metadata": {
        "id": "u-L6m1nPyOe4"
      },
      "execution_count": null,
      "outputs": []
    },
    {
      "cell_type": "code",
      "source": [
        "# Passo 5: Gerar um arquivo de texto contendo todos os nomes, um a cada linha.\n",
        "dados = []\n",
        "\n",
        "for i in range(0,qtd_nomes_aleatorios):\n",
        "    dados.append(random.choice(aux))\n",
        "\n",
        "print(\"Gerando {} nomes aleatórios\".format(qtd_nomes_aleatorios))"
      ],
      "metadata": {
        "colab": {
          "base_uri": "https://localhost:8080/"
        },
        "id": "_hYnKp7Py0mE",
        "outputId": "a2e3cb15-9d63-4bbc-83c7-98c65fd74403"
      },
      "execution_count": null,
      "outputs": [
        {
          "output_type": "stream",
          "name": "stdout",
          "text": [
            "Gerando 10000000 nomes aleatórios\n"
          ]
        }
      ]
    },
    {
      "cell_type": "code",
      "source": [
        "with open('nomes_aleatorios.txt', 'w') as arquivo_nomes:\n",
        "    for nome in dados:\n",
        "        arquivo_nomes.write(nome + '\\n')"
      ],
      "metadata": {
        "id": "1jsvAY5-0TOL"
      },
      "execution_count": null,
      "outputs": []
    }
  ]
}