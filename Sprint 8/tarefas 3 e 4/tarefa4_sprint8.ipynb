{
  "nbformat": 4,
  "nbformat_minor": 0,
  "metadata": {
    "colab": {
      "provenance": []
    },
    "kernelspec": {
      "name": "python3",
      "display_name": "Python 3"
    },
    "language_info": {
      "name": "python"
    }
  },
  "cells": [
    {
      "cell_type": "code",
      "source": [
        "pip install --upgrade pyspark"
      ],
      "metadata": {
        "colab": {
          "base_uri": "https://localhost:8080/"
        },
        "id": "8vKV7Lb__EJV",
        "outputId": "92409283-80f1-4fae-b7dd-6c5deada2cc6"
      },
      "execution_count": 1,
      "outputs": [
        {
          "output_type": "stream",
          "name": "stdout",
          "text": [
            "Requirement already satisfied: pyspark in /usr/local/lib/python3.10/dist-packages (3.4.1)\n",
            "Requirement already satisfied: py4j==0.10.9.7 in /usr/local/lib/python3.10/dist-packages (from pyspark) (0.10.9.7)\n"
          ]
        }
      ]
    },
    {
      "cell_type": "code",
      "source": [
        "from pyspark.sql import SparkSession\n",
        "from pyspark import SparkContext, SQLContext\n",
        "from pyspark.sql.functions import lit\n",
        "from pyspark.sql.functions import count\n",
        "from pyspark.sql.functions import col\n",
        "import random"
      ],
      "metadata": {
        "id": "gOy-v32tMaSN"
      },
      "execution_count": 2,
      "outputs": []
    },
    {
      "cell_type": "code",
      "execution_count": 3,
      "metadata": {
        "id": "nxy3W_CL-3J5"
      },
      "outputs": [],
      "source": [
        "# Criando uma SparkSession\n",
        "spark = SparkSession.builder \\\n",
        "    .master('local[*]') \\\n",
        "    .appName('Exercicio Intro') \\\n",
        "    .getOrCreate()"
      ]
    },
    {
      "cell_type": "markdown",
      "source": [
        "###Nesta etapa, adicione código para ler o arquivo nomes_aleatorios.txt através do comando spark.read.csv. Carregue-o para dentro de um dataframe chamado df_nomes e, por fim, liste algumas linhas através do método show. Exemplo: df_nomes.show(5)"
      ],
      "metadata": {
        "id": "MXeJBC34c02G"
      }
    },
    {
      "cell_type": "code",
      "source": [
        "df_nomes = spark.read.csv(\"nomes_aleatorios.txt\")\n",
        "df_nomes.show(5)"
      ],
      "metadata": {
        "colab": {
          "base_uri": "https://localhost:8080/"
        },
        "id": "b3j4jw_J_lEv",
        "outputId": "147a6de3-73ee-4e5d-a9c9-346d455df2fc"
      },
      "execution_count": 4,
      "outputs": [
        {
          "output_type": "stream",
          "name": "stdout",
          "text": [
            "+----------------+\n",
            "|             _c0|\n",
            "+----------------+\n",
            "|  Frances Bennet|\n",
            "|   Jamie Russell|\n",
            "|  Edward Kistler|\n",
            "|   Sheila Maurer|\n",
            "|Donald Golightly|\n",
            "+----------------+\n",
            "only showing top 5 rows\n",
            "\n"
          ]
        }
      ]
    },
    {
      "cell_type": "markdown",
      "source": [
        "###Como não informamos no momento da leitura do arquivo, o Spark não identificou o Schema por padrão e definiu todas as colunas como string. Para ver o Schema, use o método df_nomes.printSchema(). Nesta etapa, será necessário adicionar código para renomear a coluna para Nomes, imprimir o esquema e mostrar 10 linhas do dataframe."
      ],
      "metadata": {
        "id": "gzi6NC86dRnc"
      }
    },
    {
      "cell_type": "code",
      "source": [
        "df_nomes.printSchema()"
      ],
      "metadata": {
        "colab": {
          "base_uri": "https://localhost:8080/"
        },
        "id": "wPSUuIcxEice",
        "outputId": "af9ff8e0-edc7-451e-c45a-e077cc9b88c1"
      },
      "execution_count": 5,
      "outputs": [
        {
          "output_type": "stream",
          "name": "stdout",
          "text": [
            "root\n",
            " |-- _c0: string (nullable = true)\n",
            "\n"
          ]
        }
      ]
    },
    {
      "cell_type": "code",
      "source": [
        "df_nomes = df_nomes.withColumnRenamed(\"_c0\", \"Nomes\")\n",
        "df_nomes.printSchema()"
      ],
      "metadata": {
        "colab": {
          "base_uri": "https://localhost:8080/"
        },
        "id": "o2JYrOzbElHA",
        "outputId": "4d508892-d82a-4903-ff67-af7099c05e2c"
      },
      "execution_count": 6,
      "outputs": [
        {
          "output_type": "stream",
          "name": "stdout",
          "text": [
            "root\n",
            " |-- Nomes: string (nullable = true)\n",
            "\n"
          ]
        }
      ]
    },
    {
      "cell_type": "code",
      "source": [
        "df_nomes.show(10)"
      ],
      "metadata": {
        "colab": {
          "base_uri": "https://localhost:8080/"
        },
        "id": "9BW87hqjEoEd",
        "outputId": "63dc513f-e0dd-4bca-9883-c9f2c2d914b5"
      },
      "execution_count": 7,
      "outputs": [
        {
          "output_type": "stream",
          "name": "stdout",
          "text": [
            "+-----------------+\n",
            "|            Nomes|\n",
            "+-----------------+\n",
            "|   Frances Bennet|\n",
            "|    Jamie Russell|\n",
            "|   Edward Kistler|\n",
            "|    Sheila Maurer|\n",
            "| Donald Golightly|\n",
            "|       David Gray|\n",
            "|      Joy Bennett|\n",
            "|      Paul Kriese|\n",
            "|Berniece Ornellas|\n",
            "|    Brian Farrell|\n",
            "+-----------------+\n",
            "only showing top 10 rows\n",
            "\n"
          ]
        }
      ]
    },
    {
      "cell_type": "markdown",
      "source": [
        "### Ao dataframe (df_nomes), adicione nova coluna chamada Escolaridade e atribua para cada linha um dos três valores de forma aleatória: Fundamental, Medio ou Superior."
      ],
      "metadata": {
        "id": "KZoUPcQddanE"
      }
    },
    {
      "cell_type": "code",
      "source": [
        "# Função que recebe elementos de uma lista e os adiciona em uma nova coluna do dataframe, de forma aleatória\n",
        "def randomizar_elementos(dataframe,lista_elementos,nome_coluna):\n",
        "  udf_elemento_aleatorio = spark.udf.register('udf_elemento_aleatorio', lambda x:random.choice(lista_elementos))\n",
        "  dataframe = dataframe.withColumn(nome_coluna,udf_elemento_aleatorio(lit(0)))\n",
        "  return dataframe"
      ],
      "metadata": {
        "id": "niThYFr1GFgn"
      },
      "execution_count": 8,
      "outputs": []
    },
    {
      "cell_type": "code",
      "source": [
        "# Lista com os níveis de escolaridade a serem adicionados\n",
        "escolaridade = ['Fundamental','Medio','Superior']\n",
        "# Adicionando a coluna 'Escolaridade' ao dataframe por meio da função randomizar_elementos\n",
        "df_nomes = randomizar_elementos(df_nomes,escolaridade,'Escolaridade')\n",
        "\n",
        "df_nomes.show(5)"
      ],
      "metadata": {
        "colab": {
          "base_uri": "https://localhost:8080/"
        },
        "id": "zLcto5kUHBDv",
        "outputId": "24c0b3ff-9211-4af4-8c36-324b75a6e4ac"
      },
      "execution_count": 9,
      "outputs": [
        {
          "output_type": "stream",
          "name": "stdout",
          "text": [
            "+----------------+------------+\n",
            "|           Nomes|Escolaridade|\n",
            "+----------------+------------+\n",
            "|  Frances Bennet|       Medio|\n",
            "|   Jamie Russell|    Superior|\n",
            "|  Edward Kistler| Fundamental|\n",
            "|   Sheila Maurer|    Superior|\n",
            "|Donald Golightly|    Superior|\n",
            "+----------------+------------+\n",
            "only showing top 5 rows\n",
            "\n"
          ]
        }
      ]
    },
    {
      "cell_type": "markdown",
      "source": [
        "###Ao dataframe (df_nomes), adicione nova coluna chamada Pais e atribua para cada linha o nome de um dos 13 países da América do Sul, de forma aleatória."
      ],
      "metadata": {
        "id": "oK2vvZQXdwek"
      }
    },
    {
      "cell_type": "code",
      "source": [
        "# Lista dos países da América do Sul a serem adicionados\n",
        "paises_america_sul = ['Argentina','Bolívia','Brasil','Chile','Colômbia','Equador','Guiana','Paraguai','Peru','Suriname','Uruguai','Venezuela']\n",
        "# Adicionando a coluna 'Pais' ao dataframe por meio da função randomizar_elementos\n",
        "df_nomes = randomizar_elementos(df_nomes,paises_america_sul,'Pais')\n",
        "\n",
        "df_nomes.show(5)"
      ],
      "metadata": {
        "colab": {
          "base_uri": "https://localhost:8080/"
        },
        "id": "4ANByi8VFCP9",
        "outputId": "a1a9446d-0add-457c-d9b9-a13f65cc1bdf"
      },
      "execution_count": 10,
      "outputs": [
        {
          "output_type": "stream",
          "name": "stdout",
          "text": [
            "+----------------+------------+--------+\n",
            "|           Nomes|Escolaridade|    Pais|\n",
            "+----------------+------------+--------+\n",
            "|  Frances Bennet|    Superior|Suriname|\n",
            "|   Jamie Russell|    Superior|Paraguai|\n",
            "|  Edward Kistler|       Medio|  Guiana|\n",
            "|   Sheila Maurer|    Superior|  Guiana|\n",
            "|Donald Golightly|       Medio|Paraguai|\n",
            "+----------------+------------+--------+\n",
            "only showing top 5 rows\n",
            "\n"
          ]
        }
      ]
    },
    {
      "cell_type": "markdown",
      "source": [
        "### Ao dataframe (df_nomes), adicione nova coluna chamada AnoNascimento e atribua para cada linha um valor de ano entre 1945 e 2010, de forma aleatória."
      ],
      "metadata": {
        "id": "H6PoZlRbd82M"
      }
    },
    {
      "cell_type": "code",
      "source": [
        "# Obtendo o número de linhas do dataframe 'df_nomes'\n",
        "num_linhas = df_nomes.select(count('*')).first()[0]\n",
        "# Lista de anos aleatórios entre 1945 e 2010\n",
        "anos_aleatorios = [random.randint(1945, 2010) for _ in range(num_linhas)]\n",
        "# Adicionando a coluna 'AnoNascimento' por meio da função randomizar_elementos\n",
        "df_nomes = randomizar_elementos(df_nomes, anos_aleatorios, \"AnoNascimento\")\n",
        "\n",
        "df_nomes.show(5)"
      ],
      "metadata": {
        "colab": {
          "base_uri": "https://localhost:8080/"
        },
        "id": "1R9asvG_I0k-",
        "outputId": "59a665a8-7b64-40ed-e06f-f019fd6a0fad"
      },
      "execution_count": 11,
      "outputs": [
        {
          "output_type": "stream",
          "name": "stdout",
          "text": [
            "+----------------+------------+---------+-------------+\n",
            "|           Nomes|Escolaridade|     Pais|AnoNascimento|\n",
            "+----------------+------------+---------+-------------+\n",
            "|  Frances Bennet|    Superior|Venezuela|         1986|\n",
            "|   Jamie Russell| Fundamental| Suriname|         1951|\n",
            "|  Edward Kistler|       Medio|  Uruguai|         1959|\n",
            "|   Sheila Maurer|       Medio|    Chile|         1998|\n",
            "|Donald Golightly| Fundamental|Argentina|         1961|\n",
            "+----------------+------------+---------+-------------+\n",
            "only showing top 5 rows\n",
            "\n"
          ]
        }
      ]
    },
    {
      "cell_type": "markdown",
      "source": [
        "### Usando o método select do dataframe (df_nomes), selecione as pessoas que nasceram neste século. Armazene o resultado em outro dataframe chamado df_select e mostre 10 nomes deste."
      ],
      "metadata": {
        "id": "QhfukJS7eIqE"
      }
    },
    {
      "cell_type": "code",
      "source": [
        "# Convertendo a coluna \"AnoNascimento\" para tipo inteiro\n",
        "df_nomes = df_nomes.withColumn(\"AnoNascimento\", df_nomes[\"AnoNascimento\"].cast(\"int\"))\n",
        "\n",
        "# Filtrando os registros de pessoas que nasceram neste século e armazenando o resultado em um novo dataframe\n",
        "df_select = df_nomes.select(\"Nomes\",\"AnoNascimento\")\n",
        "df_select = df_select.filter(df_select.AnoNascimento >= 2000)\n",
        "\n",
        "df_select.show(10)"
      ],
      "metadata": {
        "colab": {
          "base_uri": "https://localhost:8080/"
        },
        "id": "xvgz2gH7MyLV",
        "outputId": "d69fb447-7969-4f43-ef16-02b6d59b9862"
      },
      "execution_count": 36,
      "outputs": [
        {
          "output_type": "stream",
          "name": "stdout",
          "text": [
            "+----------------+-------------+\n",
            "|           Nomes|AnoNascimento|\n",
            "+----------------+-------------+\n",
            "|   Sheila Maurer|         1956|\n",
            "| Howard Lazarine|         1964|\n",
            "|  Lorenzo Woodis|         1963|\n",
            "|     Page Marthe|         1988|\n",
            "|  Herbert Morris|         1994|\n",
            "|     Sandra Todd|         1999|\n",
            "|   Milton Dillon|         1967|\n",
            "|   Lynne Dustman|         1947|\n",
            "|Richelle Vasquez|         1960|\n",
            "| Pamela Banuelos|         1987|\n",
            "+----------------+-------------+\n",
            "only showing top 10 rows\n",
            "\n"
          ]
        }
      ]
    },
    {
      "cell_type": "markdown",
      "source": [
        "### Usando Spark SQL repita o processo da Pergunta 6."
      ],
      "metadata": {
        "id": "VsNvB99deWE2"
      }
    },
    {
      "cell_type": "code",
      "source": [
        "# Criando uma tabela temporária chamada 'pessoas' para execução das consultas com Spark SQL\n",
        "df_nomes.createOrReplaceTempView('pessoas')"
      ],
      "metadata": {
        "id": "7UPz46hSY_zt"
      },
      "execution_count": null,
      "outputs": []
    },
    {
      "cell_type": "code",
      "source": [
        "# Executando consulta SQL para selecionas as pessoas que nasceram neste século\n",
        "nascimento_filtrado_sql = spark.sql('SELECT * FROM pessoas WHERE AnoNascimento >= 2000')\n",
        "\n",
        "nascimento_filtrado_sql.show(10)"
      ],
      "metadata": {
        "colab": {
          "base_uri": "https://localhost:8080/"
        },
        "id": "IU-T7jVoUqzM",
        "outputId": "e5d2f29c-4626-4a8b-8ed7-9e7a0c3bd9b8"
      },
      "execution_count": 18,
      "outputs": [
        {
          "output_type": "stream",
          "name": "stdout",
          "text": [
            "+--------------+------------+---------+-------------+\n",
            "|         Nomes|Escolaridade|     Pais|AnoNascimento|\n",
            "+--------------+------------+---------+-------------+\n",
            "|Frances Bennet|    Superior| Paraguai|         2010|\n",
            "|   Paul Kriese| Fundamental| Colômbia|         1998|\n",
            "|Kara Mcelwaine|       Medio|   Brasil|         2007|\n",
            "|  Leroy Strahl| Fundamental|Argentina|         1956|\n",
            "|Lorenzo Woodis|    Superior| Suriname|         1973|\n",
            "|Herbert Morris|       Medio|Venezuela|         1983|\n",
            "|   Albert Leef| Fundamental|Venezuela|         1967|\n",
            "|  Rebecca Snow| Fundamental|   Brasil|         1964|\n",
            "|Gabriel Colyer| Fundamental| Paraguai|         1967|\n",
            "|      Mary Lee|    Superior|Venezuela|         1959|\n",
            "+--------------+------------+---------+-------------+\n",
            "only showing top 10 rows\n",
            "\n"
          ]
        }
      ]
    },
    {
      "cell_type": "markdown",
      "source": [
        "### Usando o método select do Dataframe df_nomes, Conte o número de pessoas que são da geração Millennials (nascidos entre 1980 e 1994) no Dataset"
      ],
      "metadata": {
        "id": "5b7FzHEHed00"
      }
    },
    {
      "cell_type": "code",
      "source": [
        "# Filtrando as pessoas que nasceram entre 1980 e 1994\n",
        "df_millennials = df_nomes.filter((col('AnoNascimento') >= 1980) & (col('AnoNascimento') <= 1994))\n",
        "\n",
        "# Contando o número de pessoas da geração Millennials\n",
        "count_millennials = df_millennials.count()\n",
        "\n",
        "print(f\"Número de pessoas da geração Millennials: {count_millennials}\")"
      ],
      "metadata": {
        "colab": {
          "base_uri": "https://localhost:8080/"
        },
        "id": "5psWmzJRWn_i",
        "outputId": "c457cc17-3247-44f2-bfba-898db7d086c2"
      },
      "execution_count": 20,
      "outputs": [
        {
          "output_type": "stream",
          "name": "stdout",
          "text": [
            "Número de pessoas da geração Millennials: 2273205\n"
          ]
        }
      ]
    },
    {
      "cell_type": "markdown",
      "source": [
        "### Repita o processo da Pergunta 8 utilizando Spark SQL"
      ],
      "metadata": {
        "id": "YM0xlGAQejqj"
      }
    },
    {
      "cell_type": "code",
      "source": [
        "# Executando consulta SQL para contar o número de pessoas da geração Millennials\n",
        "resultado_sql = spark.sql(\"SELECT COUNT(*) AS count_millennials FROM pessoas WHERE AnoNascimento BETWEEN 1980 AND 1994\")\n",
        "\n",
        "# Extraindo o resultado da consulta SQL\n",
        "count_millennials_sql = resultado_sql.first()[\"count_millennials\"]\n",
        "\n",
        "print(f\"Número de pessoas da geração Millennials: {count_millennials}\")"
      ],
      "metadata": {
        "colab": {
          "base_uri": "https://localhost:8080/"
        },
        "id": "3JvfE2yLYEUr",
        "outputId": "7e27ce1a-6911-4f5f-a9d8-336ca2a5ceb5"
      },
      "execution_count": 21,
      "outputs": [
        {
          "output_type": "stream",
          "name": "stdout",
          "text": [
            "Número de pessoas da geração Millennials: 2273205\n"
          ]
        }
      ]
    },
    {
      "cell_type": "code",
      "source": [
        "# Criando uma função para gerar a consulta SQL de contagem por geração\n",
        "def consulta_geracao(geracao,ano_inicial,ano_final):\n",
        "  query = f\"\"\"\n",
        "      SELECT Pais, '{geracao}' AS Geracao, COUNT(*) AS Quantidade\n",
        "      FROM pessoas\n",
        "      WHERE AnoNascimento BETWEEN {ano_inicial} AND {ano_final}\n",
        "      GROUP BY Pais\n",
        "  \"\"\"\n",
        "  return query\n",
        "\n",
        "# Informações de cada geração\n",
        "geracoes = [\n",
        "    {\"nome\": \"Baby Boomers\", \"ano_inicio\": 1944, \"ano_fim\": 1964},\n",
        "    {\"nome\": \"Geração X\", \"ano_inicio\": 1965, \"ano_fim\": 1979},\n",
        "    {\"nome\": \"Millennials\", \"ano_inicio\": 1980, \"ano_fim\": 1994},\n",
        "    {\"nome\": \"Geração Z\", \"ano_inicio\": 1995, \"ano_fim\": 2015}\n",
        "]\n",
        "\n",
        "# Consultando os resultados para cada geração e armazenando em uma lista\n",
        "resultados_geracoes = []\n",
        "for geracao_info in geracoes:\n",
        "    geracao_query = consulta_geracao(geracao_info[\"nome\"],geracao_info[\"ano_inicio\"],geracao_info[\"ano_fim\"])\n",
        "    resultado = spark.sql(geracao_query)\n",
        "    resultados_geracoes.append(resultado)\n",
        "\n",
        "# Combinando os DataFrames usando union\n",
        "df_resultado = resultados_geracoes[0]\n",
        "for i in range(1, len(resultados_geracoes)):\n",
        "    df_resultado = df_resultado.union(resultados_geracoes[i])\n",
        "\n",
        "# Ordenando o resultado por Pais, Geração e Quantidade\n",
        "df_resultado = df_resultado.orderBy(\"Pais\", \"Geracao\", \"Quantidade\")\n",
        "\n",
        "df_resultado.show()"
      ],
      "metadata": {
        "colab": {
          "base_uri": "https://localhost:8080/"
        },
        "id": "Wdu4_1DpYtGz",
        "outputId": "9d1170b7-afdd-4d11-c722-42e5ea0841bc"
      },
      "execution_count": 24,
      "outputs": [
        {
          "output_type": "stream",
          "name": "stdout",
          "text": [
            "+---------+------------+----------+\n",
            "|     Pais|     Geracao|Quantidade|\n",
            "+---------+------------+----------+\n",
            "|Argentina|Baby Boomers|    252122|\n",
            "|Argentina|   Geração X|    189529|\n",
            "|Argentina|   Geração Z|    202364|\n",
            "|Argentina| Millennials|    188772|\n",
            "|  Bolívia|Baby Boomers|    252152|\n",
            "|  Bolívia|   Geração X|    189465|\n",
            "|  Bolívia|   Geração Z|    202466|\n",
            "|  Bolívia| Millennials|    189217|\n",
            "|   Brasil|Baby Boomers|    252029|\n",
            "|   Brasil|   Geração X|    189497|\n",
            "|   Brasil|   Geração Z|    202352|\n",
            "|   Brasil| Millennials|    189583|\n",
            "|    Chile|Baby Boomers|    253018|\n",
            "|    Chile|   Geração X|    189495|\n",
            "|    Chile|   Geração Z|    201949|\n",
            "|    Chile| Millennials|    189826|\n",
            "| Colômbia|Baby Boomers|    251718|\n",
            "| Colômbia|   Geração X|    189632|\n",
            "| Colômbia|   Geração Z|    201791|\n",
            "| Colômbia| Millennials|    189532|\n",
            "+---------+------------+----------+\n",
            "only showing top 20 rows\n",
            "\n"
          ]
        }
      ]
    }
  ]
}